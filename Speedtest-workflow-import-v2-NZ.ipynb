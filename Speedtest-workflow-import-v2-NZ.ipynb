{
 "cells": [
  {
   "cell_type": "markdown",
   "metadata": {},
   "source": [
    "## Speedtest import workflow\n",
    "### Follow steps to import global data, extract AUS, check unique (line count) and save locally and figshare\n",
    "Created: Richard Ferrers, 18/11/22 CC_BY"
   ]
  },
  {
   "cell_type": "code",
   "execution_count": 1,
   "metadata": {
    "tags": []
   },
   "outputs": [],
   "source": [
    "# https://github.com/teamookla/ookla-open-data/blob/master/tutorials/aggregate_by_county_py.ipynb\n",
    "# Speedtest Jupyter Notebook - demonstration code\n",
    "# Pandas cheatsheet - https://pandas.pydata.org/Pandas_Cheat_Sheet.pdf\n",
    "# https://colab.research.google.com/drivespeedtest/.../geopandas.ipynb\n",
    "%matplotlib inline\n",
    "# !pip install geopandas\n",
    "# !pip install shapely\n",
    "# !pip install rtree\n",
    "# !apt-get install -y libspatialindex-dev\n",
    "from datetime import datetime\n",
    "\n",
    "import geopandas as gp\n",
    "import matplotlib\n",
    "import matplotlib.pyplot as plt\n",
    "import pandas as pd\n",
    "import numpy as np\n",
    "\n",
    "from shapely.geometry import Point\n",
    "# from adjustText import adjust_text - this library not loaded"
   ]
  },
  {
   "cell_type": "code",
   "execution_count": 2,
   "metadata": {
    "tags": []
   },
   "outputs": [],
   "source": [
    "def quarter_start(year: int, q: int) -> datetime:\n",
    "    if not 1 <= q <= 4:\n",
    "        raise ValueError(\"Quarter must be within [1, 2, 3, 4]\")\n",
    "\n",
    "    month = [1, 4, 7, 10]\n",
    "    return datetime(year, month[q - 1], 1)\n",
    "\n",
    "\n",
    "def get_tile_url(service_type: str, year: int, q: int) -> str:\n",
    "    dt = quarter_start(year, q)\n",
    "\n",
    "    base_url = \"https://ookla-open-data.s3-us-west-2.amazonaws.com/shapefiles/performance\"\n",
    "    url = f\"{base_url}/type%3D{service_type}/year%3D{dt:%Y}/quarter%3D{q}/{dt:%Y-%m-%d}_performance_fixed_tiles.zip\"\n",
    "    return url\n",
    "\n",
    "#speedtest import data from aws"
   ]
  },
  {
   "cell_type": "code",
   "execution_count": 3,
   "metadata": {
    "tags": []
   },
   "outputs": [
    {
     "data": {
      "text/plain": [
       "'https://ookla-open-data.s3-us-west-2.amazonaws.com/shapefiles/performance/type%3Dfixed/year%3D2023/quarter%3D2/2023-04-01_performance_fixed_tiles.zip'"
      ]
     },
     "execution_count": 3,
     "metadata": {},
     "output_type": "execute_result"
    }
   ],
   "source": [
    "tile_url = get_tile_url(\"fixed\", 2023, 2)\n",
    "tile_url\n",
    "#let's load Q2, Q3 22 data"
   ]
  },
  {
   "cell_type": "code",
   "execution_count": 4,
   "metadata": {
    "tags": []
   },
   "outputs": [
    {
     "name": "stdout",
     "output_type": "stream",
     "text": [
      "2024-02-15 14:19:09.850542\n"
     ]
    }
   ],
   "source": [
    "print (datetime.now())\n",
    "# tells me how long takes to import data"
   ]
  },
  {
   "cell_type": "code",
   "execution_count": 5,
   "metadata": {
    "tags": []
   },
   "outputs": [],
   "source": [
    "tiles = gp.read_file(tile_url)\n",
    "# load times - 30 mins (Sun pm), 8 mins (Mon am), 12mins (Sun pm), 11mins (Sat pm)\n",
    "# load time -  12 mins (Fri am), 14 mins (Fri am)\n",
    "# load time - 6 mins, (Fri pm),  6 mins (Fri pm) (now at 100Mbps, was 50Mbps)\n",
    "# load time - x mins (Fri pm) (on 100Mbps NBN)\n",
    "# load time - 7 mins (Th pm) (on 1Gbps Monash LAN)"
   ]
  },
  {
   "cell_type": "code",
   "execution_count": 6,
   "metadata": {
    "tags": []
   },
   "outputs": [
    {
     "name": "stdout",
     "output_type": "stream",
     "text": [
      "2024-02-15 14:26:06.181406\n"
     ]
    }
   ],
   "source": [
    "print (datetime.now())"
   ]
  },
  {
   "cell_type": "code",
   "execution_count": 7,
   "metadata": {
    "tags": []
   },
   "outputs": [
    {
     "data": {
      "text/plain": [
       "6370328"
      ]
     },
     "execution_count": 7,
     "metadata": {},
     "output_type": "execute_result"
    }
   ],
   "source": [
    "len(tiles)\n",
    "# Q1 21 - 6.3M lines\n",
    "# Q2 21 - 6.7M lines (global)\n",
    "# Q3 21 - 6.9M lines\n",
    "# Q4 21 - 6.7M lines (AU 86115 lines)\n",
    "# Q1 22 - 6.7M lines (AU 88182 lines)\n",
    "# Q2 22 - 6.6M lines (AU 86704 lines)\n",
    "# Q3 22 - 6.609M lines (AU 83458 lines)\n",
    "# Q1 23 - 6.334M lines (AU 89619 lines)\n",
    "# Q2 23 - 6.370M lines (AU 90258 lines)\n",
    "# Q3 23 - 6.67M lines (AU 90249 lines)\n",
    "\n",
    "# how to save/load\n",
    "#au_tiles.to_file(\"speedtest-AUS-Q221.geojson\", driver='GeoJSON')\n",
    "#working - reloaded successfully\n",
    "# au2_tiles = gp.read_file(\"speedtest.geojson\")"
   ]
  },
  {
   "cell_type": "code",
   "execution_count": 8,
   "metadata": {
    "tags": []
   },
   "outputs": [
    {
     "data": {
      "text/plain": [
       "21113"
      ]
     },
     "execution_count": 8,
     "metadata": {},
     "output_type": "execute_result"
    }
   ],
   "source": [
    "# au_tiles = tiles.cx[113.338953:153.569469 ,\t-43.634597:-10.668186]\n",
    "nz_tiles = tiles.cx[166.509144322:178.517093541 ,\t-46.641235447:-34.4506617165]\n",
    "#LAX = tiles.cx[-118:-120, 33:35]\n",
    "#len(au_tiles) \n",
    "len(nz_tiles)\n",
    "# processing World data to Australia subset by bounding box\n",
    "# source of Bounding Box - World data set\n",
    "# processing time - 5 mins, 9 mins, <1min (M2)"
   ]
  },
  {
   "cell_type": "code",
   "execution_count": 9,
   "metadata": {
    "tags": []
   },
   "outputs": [],
   "source": [
    "# au_tiles.to_file(\"speedtest-AUS-Q323.geojson\", driver='GeoJSON')\n",
    "nz_tiles.to_file(\"speedtest-NZ-Q323.geojson\", driver='GeoJSON')\n",
    "\n",
    "#write to disk\n",
    "# then load to figshare: CC-BY-NC https://doi.org/10.6084/m9.figshare.13370504 (Currently at.v22)"
   ]
  },
  {
   "cell_type": "code",
   "execution_count": 10,
   "metadata": {
    "tags": []
   },
   "outputs": [
    {
     "name": "stderr",
     "output_type": "stream",
     "text": [
      "/var/folders/0s/qxd9z2qd38lc_8yjl3wf1qjm36znn7/T/ipykernel_78328/3189403894.py:2: UserWarning: Geometry is in a geographic CRS. Results from 'centroid' are likely incorrect. Use 'GeoSeries.to_crs()' to re-project geometries to a projected CRS before this operation.\n",
      "\n",
      "  nz_tiles.centroid.plot()\n"
     ]
    },
    {
     "data": {
      "text/plain": [
       "<Axes: >"
      ]
     },
     "execution_count": 10,
     "metadata": {},
     "output_type": "execute_result"
    },
    {
     "data": {
      "image/png": "[encoded data removed]",
      "text/plain": [
       "<Figure size 640x480 with 1 Axes>"
      ]
     },
     "metadata": {},
     "output_type": "display_data"
    }
   ],
   "source": [
    "#au_tiles.centroid.plot()\n",
    "nz_tiles.centroid.plot()\n",
    "# Visual data inspection\n",
    "# Q222 - looks like some E.Timor data or Coral Sea (New Guinea?)"
   ]
  },
  {
   "cell_type": "code",
   "execution_count": 11,
   "metadata": {
    "tags": []
   },
   "outputs": [
    {
     "data": {
      "text/plain": [
       "154335.73504475915"
      ]
     },
     "execution_count": 11,
     "metadata": {},
     "output_type": "execute_result"
    }
   ],
   "source": [
    "#au_tiles['avg_d_kbps'].mean()\n",
    "nz_tiles['avg_d_kbps'].mean()\n",
    "# Q2 21 - 52314\n",
    "# Q3 21 - 54854\n",
    "# Q4 21 - 57645\n",
    "# Q1 22 - 56873\n",
    "# Q2 22 - 58442\n",
    "# Q3 22 - 61658\n",
    "# Q1 23 - 69696\n",
    "# Q2 23 - 74254\n",
    "# Q3 23 - 79082\n",
    "#NZ-Q3 23 - 154335\n"
   ]
  },
  {
   "cell_type": "code",
   "execution_count": 12,
   "metadata": {
    "tags": []
   },
   "outputs": [
    {
     "data": {
      "text/html": [
       "<div>\n",
       "<style scoped>\n",
       "    .dataframe tbody tr th:only-of-type {\n",
       "        vertical-align: middle;\n",
       "    }\n",
       "\n",
       "    .dataframe tbody tr th {\n",
       "        vertical-align: top;\n",
       "    }\n",
       "\n",
       "    .dataframe thead th {\n",
       "        text-align: right;\n",
       "    }\n",
       "</style>\n",
       "<table border=\"1\" class=\"dataframe\">\n",
       "  <thead>\n",
       "    <tr style=\"text-align: right;\">\n",
       "      <th></th>\n",
       "      <th>avg_d_kbps</th>\n",
       "      <th>avg_u_kbps</th>\n",
       "      <th>avg_lat_ms</th>\n",
       "      <th>tests</th>\n",
       "      <th>devices</th>\n",
       "    </tr>\n",
       "  </thead>\n",
       "  <tbody>\n",
       "    <tr>\n",
       "      <th>count</th>\n",
       "      <td>21113.000000</td>\n",
       "      <td>21113.000000</td>\n",
       "      <td>21113.000000</td>\n",
       "      <td>21113.000000</td>\n",
       "      <td>21113.000000</td>\n",
       "    </tr>\n",
       "    <tr>\n",
       "      <th>mean</th>\n",
       "      <td>154335.735045</td>\n",
       "      <td>81342.726188</td>\n",
       "      <td>22.559276</td>\n",
       "      <td>10.336523</td>\n",
       "      <td>3.449723</td>\n",
       "    </tr>\n",
       "    <tr>\n",
       "      <th>std</th>\n",
       "      <td>120492.670837</td>\n",
       "      <td>83412.241558</td>\n",
       "      <td>45.567639</td>\n",
       "      <td>20.629109</td>\n",
       "      <td>5.245286</td>\n",
       "    </tr>\n",
       "    <tr>\n",
       "      <th>min</th>\n",
       "      <td>73.000000</td>\n",
       "      <td>13.000000</td>\n",
       "      <td>1.000000</td>\n",
       "      <td>1.000000</td>\n",
       "      <td>1.000000</td>\n",
       "    </tr>\n",
       "    <tr>\n",
       "      <th>25%</th>\n",
       "      <td>48847.000000</td>\n",
       "      <td>14325.000000</td>\n",
       "      <td>7.000000</td>\n",
       "      <td>1.000000</td>\n",
       "      <td>1.000000</td>\n",
       "    </tr>\n",
       "    <tr>\n",
       "      <th>50%</th>\n",
       "      <td>140562.000000</td>\n",
       "      <td>58306.000000</td>\n",
       "      <td>12.000000</td>\n",
       "      <td>4.000000</td>\n",
       "      <td>2.000000</td>\n",
       "    </tr>\n",
       "    <tr>\n",
       "      <th>75%</th>\n",
       "      <td>230402.000000</td>\n",
       "      <td>124754.000000</td>\n",
       "      <td>27.000000</td>\n",
       "      <td>11.000000</td>\n",
       "      <td>4.000000</td>\n",
       "    </tr>\n",
       "    <tr>\n",
       "      <th>max</th>\n",
       "      <td>899562.000000</td>\n",
       "      <td>658505.000000</td>\n",
       "      <td>1920.000000</td>\n",
       "      <td>791.000000</td>\n",
       "      <td>192.000000</td>\n",
       "    </tr>\n",
       "  </tbody>\n",
       "</table>\n",
       "</div>"
      ],
      "text/plain": [
       "          avg_d_kbps     avg_u_kbps    avg_lat_ms         tests       devices\n",
       "count   21113.000000   21113.000000  21113.000000  21113.000000  21113.000000\n",
       "mean   154335.735045   81342.726188     22.559276     10.336523      3.449723\n",
       "std    120492.670837   83412.241558     45.567639     20.629109      5.245286\n",
       "min        73.000000      13.000000      1.000000      1.000000      1.000000\n",
       "25%     48847.000000   14325.000000      7.000000      1.000000      1.000000\n",
       "50%    140562.000000   58306.000000     12.000000      4.000000      2.000000\n",
       "75%    230402.000000  124754.000000     27.000000     11.000000      4.000000\n",
       "max    899562.000000  658505.000000   1920.000000    791.000000    192.000000"
      ]
     },
     "execution_count": 12,
     "metadata": {},
     "output_type": "execute_result"
    }
   ],
   "source": [
    "#au_tiles.describe()\n",
    "nz_tiles.describe()"
   ]
  },
  {
   "cell_type": "code",
   "execution_count": 17,
   "metadata": {
    "tags": []
   },
   "outputs": [
    {
     "data": {
      "text/html": [
       "<div>\n",
       "<style scoped>\n",
       "    .dataframe tbody tr th:only-of-type {\n",
       "        vertical-align: middle;\n",
       "    }\n",
       "\n",
       "    .dataframe tbody tr th {\n",
       "        vertical-align: top;\n",
       "    }\n",
       "\n",
       "    .dataframe thead th {\n",
       "        text-align: right;\n",
       "    }\n",
       "</style>\n",
       "<table border=\"1\" class=\"dataframe\">\n",
       "  <thead>\n",
       "    <tr style=\"text-align: right;\">\n",
       "      <th></th>\n",
       "      <th>quadkey</th>\n",
       "      <th>avg_d_kbps</th>\n",
       "      <th>avg_u_kbps</th>\n",
       "      <th>avg_lat_ms</th>\n",
       "      <th>tests</th>\n",
       "      <th>devices</th>\n",
       "      <th>geometry</th>\n",
       "    </tr>\n",
       "  </thead>\n",
       "  <tbody>\n",
       "    <tr>\n",
       "      <th>6553220</th>\n",
       "      <td>3101033321313133</td>\n",
       "      <td>5078</td>\n",
       "      <td>1604</td>\n",
       "      <td>17</td>\n",
       "      <td>1</td>\n",
       "      <td>1</td>\n",
       "      <td>POLYGON ((123.04138 -10.71998, 123.04688 -10.7...</td>\n",
       "    </tr>\n",
       "    <tr>\n",
       "      <th>6553221</th>\n",
       "      <td>3101033321331111</td>\n",
       "      <td>14622</td>\n",
       "      <td>14495</td>\n",
       "      <td>6</td>\n",
       "      <td>6</td>\n",
       "      <td>1</td>\n",
       "      <td>POLYGON ((123.04138 -10.74697, 123.04688 -10.7...</td>\n",
       "    </tr>\n",
       "    <tr>\n",
       "      <th>6553222</th>\n",
       "      <td>3101033321331132</td>\n",
       "      <td>28031</td>\n",
       "      <td>7409</td>\n",
       "      <td>8</td>\n",
       "      <td>1</td>\n",
       "      <td>1</td>\n",
       "      <td>POLYGON ((123.03589 -10.76316, 123.04138 -10.7...</td>\n",
       "    </tr>\n",
       "    <tr>\n",
       "      <th>6553223</th>\n",
       "      <td>3101033321331303</td>\n",
       "      <td>36466</td>\n",
       "      <td>8536</td>\n",
       "      <td>5</td>\n",
       "      <td>3</td>\n",
       "      <td>1</td>\n",
       "      <td>POLYGON ((123.03040 -10.77395, 123.03589 -10.7...</td>\n",
       "    </tr>\n",
       "    <tr>\n",
       "      <th>6553224</th>\n",
       "      <td>3101033321332130</td>\n",
       "      <td>18230</td>\n",
       "      <td>10074</td>\n",
       "      <td>5</td>\n",
       "      <td>2</td>\n",
       "      <td>1</td>\n",
       "      <td>POLYGON ((122.99194 -10.80093, 122.99744 -10.8...</td>\n",
       "    </tr>\n",
       "    <tr>\n",
       "      <th>...</th>\n",
       "      <td>...</td>\n",
       "      <td>...</td>\n",
       "      <td>...</td>\n",
       "      <td>...</td>\n",
       "      <td>...</td>\n",
       "      <td>...</td>\n",
       "      <td>...</td>\n",
       "    </tr>\n",
       "    <tr>\n",
       "      <th>6660886</th>\n",
       "      <td>3130102100030011</td>\n",
       "      <td>11108</td>\n",
       "      <td>497</td>\n",
       "      <td>268</td>\n",
       "      <td>15</td>\n",
       "      <td>1</td>\n",
       "      <td>POLYGON ((147.76062 -43.13306, 147.76611 -43.1...</td>\n",
       "    </tr>\n",
       "    <tr>\n",
       "      <th>6660887</th>\n",
       "      <td>3130102100102231</td>\n",
       "      <td>69268</td>\n",
       "      <td>4745</td>\n",
       "      <td>37</td>\n",
       "      <td>3</td>\n",
       "      <td>1</td>\n",
       "      <td>POLYGON ((147.84851 -43.12504, 147.85400 -43.1...</td>\n",
       "    </tr>\n",
       "    <tr>\n",
       "      <th>6660888</th>\n",
       "      <td>3130102100102323</td>\n",
       "      <td>140487</td>\n",
       "      <td>11970</td>\n",
       "      <td>50</td>\n",
       "      <td>2</td>\n",
       "      <td>1</td>\n",
       "      <td>POLYGON ((147.85950 -43.12905, 147.86499 -43.1...</td>\n",
       "    </tr>\n",
       "    <tr>\n",
       "      <th>6660889</th>\n",
       "      <td>3130102100120013</td>\n",
       "      <td>44510</td>\n",
       "      <td>7855</td>\n",
       "      <td>37</td>\n",
       "      <td>3</td>\n",
       "      <td>1</td>\n",
       "      <td>POLYGON ((147.84851 -43.13707, 147.85400 -43.1...</td>\n",
       "    </tr>\n",
       "    <tr>\n",
       "      <th>6660890</th>\n",
       "      <td>3130102100120133</td>\n",
       "      <td>16908</td>\n",
       "      <td>1592</td>\n",
       "      <td>69</td>\n",
       "      <td>1</td>\n",
       "      <td>1</td>\n",
       "      <td>POLYGON ((147.87048 -43.14509, 147.87598 -43.1...</td>\n",
       "    </tr>\n",
       "  </tbody>\n",
       "</table>\n",
       "<p>90249 rows × 7 columns</p>\n",
       "</div>"
      ],
      "text/plain": [
       "                  quadkey  avg_d_kbps  avg_u_kbps  avg_lat_ms  tests  devices  \\\n",
       "6553220  3101033321313133        5078        1604          17      1        1   \n",
       "6553221  3101033321331111       14622       14495           6      6        1   \n",
       "6553222  3101033321331132       28031        7409           8      1        1   \n",
       "6553223  3101033321331303       36466        8536           5      3        1   \n",
       "6553224  3101033321332130       18230       10074           5      2        1   \n",
       "...                   ...         ...         ...         ...    ...      ...   \n",
       "6660886  3130102100030011       11108         497         268     15        1   \n",
       "6660887  3130102100102231       69268        4745          37      3        1   \n",
       "6660888  3130102100102323      140487       11970          50      2        1   \n",
       "6660889  3130102100120013       44510        7855          37      3        1   \n",
       "6660890  3130102100120133       16908        1592          69      1        1   \n",
       "\n",
       "                                                  geometry  \n",
       "6553220  POLYGON ((123.04138 -10.71998, 123.04688 -10.7...  \n",
       "6553221  POLYGON ((123.04138 -10.74697, 123.04688 -10.7...  \n",
       "6553222  POLYGON ((123.03589 -10.76316, 123.04138 -10.7...  \n",
       "6553223  POLYGON ((123.03040 -10.77395, 123.03589 -10.7...  \n",
       "6553224  POLYGON ((122.99194 -10.80093, 122.99744 -10.8...  \n",
       "...                                                    ...  \n",
       "6660886  POLYGON ((147.76062 -43.13306, 147.76611 -43.1...  \n",
       "6660887  POLYGON ((147.84851 -43.12504, 147.85400 -43.1...  \n",
       "6660888  POLYGON ((147.85950 -43.12905, 147.86499 -43.1...  \n",
       "6660889  POLYGON ((147.84851 -43.13707, 147.85400 -43.1...  \n",
       "6660890  POLYGON ((147.87048 -43.14509, 147.87598 -43.1...  \n",
       "\n",
       "[90249 rows x 7 columns]"
      ]
     },
     "execution_count": 17,
     "metadata": {},
     "output_type": "execute_result"
    }
   ],
   "source": [
    "# to do - post to Figshare DONE.\n",
    "# plot AUS line histogram.\n",
    "au_tiles"
   ]
  },
  {
   "cell_type": "code",
   "execution_count": 32,
   "metadata": {},
   "outputs": [
    {
     "name": "stderr",
     "output_type": "stream",
     "text": [
      "/Users/rf/anaconda3/lib/python3.7/site-packages/ipykernel_launcher.py:1: UserWarning: Geometry is in a geographic CRS. Results from 'centroid' are likely incorrect. Use 'GeoSeries.to_crs()' to re-project geometries to a projected CRS before this operation.\n",
      "\n",
      "  \"\"\"Entry point for launching an IPython kernel.\n"
     ]
    },
    {
     "data": {
      "text/plain": [
       "<matplotlib.axes._subplots.AxesSubplot at 0x7f849ad779b0>"
      ]
     },
     "execution_count": 32,
     "metadata": {},
     "output_type": "execute_result"
    },
    {
     "data": {
      "image/png": "[encoded data removed]",
      "text/plain": [
       "<Figure size 432x288 with 1 Axes>"
      ]
     },
     "metadata": {
      "needs_background": "light"
     },
     "output_type": "display_data"
    }
   ],
   "source": [
    "au_tiles.loc[au_tiles['avg_d_kbps'] > 200000].centroid.plot()"
   ]
  },
  {
   "cell_type": "code",
   "execution_count": 18,
   "metadata": {
    "tags": []
   },
   "outputs": [
    {
     "data": {
      "text/html": [
       "<div>\n",
       "<style scoped>\n",
       "    .dataframe tbody tr th:only-of-type {\n",
       "        vertical-align: middle;\n",
       "    }\n",
       "\n",
       "    .dataframe tbody tr th {\n",
       "        vertical-align: top;\n",
       "    }\n",
       "\n",
       "    .dataframe thead th {\n",
       "        text-align: right;\n",
       "    }\n",
       "</style>\n",
       "<table border=\"1\" class=\"dataframe\">\n",
       "  <thead>\n",
       "    <tr style=\"text-align: right;\">\n",
       "      <th></th>\n",
       "      <th>quadkey</th>\n",
       "      <th>avg_d_kbps</th>\n",
       "      <th>avg_u_kbps</th>\n",
       "      <th>avg_lat_ms</th>\n",
       "      <th>tests</th>\n",
       "      <th>devices</th>\n",
       "      <th>geometry</th>\n",
       "    </tr>\n",
       "  </thead>\n",
       "  <tbody>\n",
       "    <tr>\n",
       "      <th>6554481</th>\n",
       "      <td>3101213323133200</td>\n",
       "      <td>238820</td>\n",
       "      <td>14816</td>\n",
       "      <td>84</td>\n",
       "      <td>3</td>\n",
       "      <td>2</td>\n",
       "      <td>POLYGON ((123.00293 -16.44662, 123.00842 -16.4...</td>\n",
       "    </tr>\n",
       "    <tr>\n",
       "      <th>6554482</th>\n",
       "      <td>3101213323133202</td>\n",
       "      <td>206423</td>\n",
       "      <td>23215</td>\n",
       "      <td>99</td>\n",
       "      <td>1</td>\n",
       "      <td>1</td>\n",
       "      <td>POLYGON ((123.00293 -16.45189, 123.00842 -16.4...</td>\n",
       "    </tr>\n",
       "    <tr>\n",
       "      <th>6554485</th>\n",
       "      <td>3101213323303002</td>\n",
       "      <td>265139</td>\n",
       "      <td>19143</td>\n",
       "      <td>110</td>\n",
       "      <td>2</td>\n",
       "      <td>2</td>\n",
       "      <td>POLYGON ((122.91504 -16.51510, 122.92053 -16.5...</td>\n",
       "    </tr>\n",
       "    <tr>\n",
       "      <th>6554488</th>\n",
       "      <td>3101222322213112</td>\n",
       "      <td>226467</td>\n",
       "      <td>10941</td>\n",
       "      <td>127</td>\n",
       "      <td>1</td>\n",
       "      <td>1</td>\n",
       "      <td>POLYGON ((114.07104 -21.82581, 114.07654 -21.8...</td>\n",
       "    </tr>\n",
       "    <tr>\n",
       "      <th>6554489</th>\n",
       "      <td>3101222322230200</td>\n",
       "      <td>220395</td>\n",
       "      <td>20808</td>\n",
       "      <td>30</td>\n",
       "      <td>1</td>\n",
       "      <td>1</td>\n",
       "      <td>POLYGON ((113.99414 -21.88189, 113.99963 -21.8...</td>\n",
       "    </tr>\n",
       "    <tr>\n",
       "      <th>...</th>\n",
       "      <td>...</td>\n",
       "      <td>...</td>\n",
       "      <td>...</td>\n",
       "      <td>...</td>\n",
       "      <td>...</td>\n",
       "      <td>...</td>\n",
       "      <td>...</td>\n",
       "    </tr>\n",
       "    <tr>\n",
       "      <th>6660838</th>\n",
       "      <td>3130102010321311</td>\n",
       "      <td>233510</td>\n",
       "      <td>19542</td>\n",
       "      <td>63</td>\n",
       "      <td>2</td>\n",
       "      <td>1</td>\n",
       "      <td>POLYGON ((147.21130 -43.27721, 147.21680 -43.2...</td>\n",
       "    </tr>\n",
       "    <tr>\n",
       "      <th>6660843</th>\n",
       "      <td>3130102010332301</td>\n",
       "      <td>286693</td>\n",
       "      <td>21981</td>\n",
       "      <td>49</td>\n",
       "      <td>2</td>\n",
       "      <td>2</td>\n",
       "      <td>POLYGON ((147.24426 -43.30919, 147.24976 -43.3...</td>\n",
       "    </tr>\n",
       "    <tr>\n",
       "      <th>6660870</th>\n",
       "      <td>3130102013002133</td>\n",
       "      <td>268345</td>\n",
       "      <td>7509</td>\n",
       "      <td>54</td>\n",
       "      <td>1</td>\n",
       "      <td>1</td>\n",
       "      <td>POLYGON ((147.34314 -43.36912, 147.34863 -43.3...</td>\n",
       "    </tr>\n",
       "    <tr>\n",
       "      <th>6660878</th>\n",
       "      <td>3130102100003203</td>\n",
       "      <td>247079</td>\n",
       "      <td>15638</td>\n",
       "      <td>50</td>\n",
       "      <td>1</td>\n",
       "      <td>1</td>\n",
       "      <td>POLYGON ((147.70569 -43.12103, 147.71118 -43.1...</td>\n",
       "    </tr>\n",
       "    <tr>\n",
       "      <th>6660879</th>\n",
       "      <td>3130102100003222</td>\n",
       "      <td>226503</td>\n",
       "      <td>18453</td>\n",
       "      <td>52</td>\n",
       "      <td>18</td>\n",
       "      <td>1</td>\n",
       "      <td>POLYGON ((147.70020 -43.12905, 147.70569 -43.1...</td>\n",
       "    </tr>\n",
       "  </tbody>\n",
       "</table>\n",
       "<p>3948 rows × 7 columns</p>\n",
       "</div>"
      ],
      "text/plain": [
       "                  quadkey  avg_d_kbps  avg_u_kbps  avg_lat_ms  tests  devices  \\\n",
       "6554481  3101213323133200      238820       14816          84      3        2   \n",
       "6554482  3101213323133202      206423       23215          99      1        1   \n",
       "6554485  3101213323303002      265139       19143         110      2        2   \n",
       "6554488  3101222322213112      226467       10941         127      1        1   \n",
       "6554489  3101222322230200      220395       20808          30      1        1   \n",
       "...                   ...         ...         ...         ...    ...      ...   \n",
       "6660838  3130102010321311      233510       19542          63      2        1   \n",
       "6660843  3130102010332301      286693       21981          49      2        2   \n",
       "6660870  3130102013002133      268345        7509          54      1        1   \n",
       "6660878  3130102100003203      247079       15638          50      1        1   \n",
       "6660879  3130102100003222      226503       18453          52     18        1   \n",
       "\n",
       "                                                  geometry  \n",
       "6554481  POLYGON ((123.00293 -16.44662, 123.00842 -16.4...  \n",
       "6554482  POLYGON ((123.00293 -16.45189, 123.00842 -16.4...  \n",
       "6554485  POLYGON ((122.91504 -16.51510, 122.92053 -16.5...  \n",
       "6554488  POLYGON ((114.07104 -21.82581, 114.07654 -21.8...  \n",
       "6554489  POLYGON ((113.99414 -21.88189, 113.99963 -21.8...  \n",
       "...                                                    ...  \n",
       "6660838  POLYGON ((147.21130 -43.27721, 147.21680 -43.2...  \n",
       "6660843  POLYGON ((147.24426 -43.30919, 147.24976 -43.3...  \n",
       "6660870  POLYGON ((147.34314 -43.36912, 147.34863 -43.3...  \n",
       "6660878  POLYGON ((147.70569 -43.12103, 147.71118 -43.1...  \n",
       "6660879  POLYGON ((147.70020 -43.12905, 147.70569 -43.1...  \n",
       "\n",
       "[3948 rows x 7 columns]"
      ]
     },
     "execution_count": 18,
     "metadata": {},
     "output_type": "execute_result"
    }
   ],
   "source": [
    "au_tiles.loc[au_tiles['avg_d_kbps'] >200000]\n",
    "#Q2 23 - records over 200Mbps - 3514\n",
    "#Q2 23 - records over 200Mbps - 3948 (up 15%)"
   ]
  },
  {
   "cell_type": "code",
   "execution_count": 19,
   "metadata": {
    "tags": []
   },
   "outputs": [
    {
     "data": {
      "text/html": [
       "<div>\n",
       "<style scoped>\n",
       "    .dataframe tbody tr th:only-of-type {\n",
       "        vertical-align: middle;\n",
       "    }\n",
       "\n",
       "    .dataframe tbody tr th {\n",
       "        vertical-align: top;\n",
       "    }\n",
       "\n",
       "    .dataframe thead th {\n",
       "        text-align: right;\n",
       "    }\n",
       "</style>\n",
       "<table border=\"1\" class=\"dataframe\">\n",
       "  <thead>\n",
       "    <tr style=\"text-align: right;\">\n",
       "      <th></th>\n",
       "      <th>quadkey</th>\n",
       "      <th>avg_d_kbps</th>\n",
       "      <th>avg_u_kbps</th>\n",
       "      <th>avg_lat_ms</th>\n",
       "      <th>tests</th>\n",
       "      <th>devices</th>\n",
       "      <th>geometry</th>\n",
       "    </tr>\n",
       "  </thead>\n",
       "  <tbody>\n",
       "    <tr>\n",
       "      <th>6553220</th>\n",
       "      <td>3101033321313133</td>\n",
       "      <td>5078</td>\n",
       "      <td>1604</td>\n",
       "      <td>17</td>\n",
       "      <td>1</td>\n",
       "      <td>1</td>\n",
       "      <td>POLYGON ((123.04138 -10.71998, 123.04688 -10.7...</td>\n",
       "    </tr>\n",
       "    <tr>\n",
       "      <th>6553226</th>\n",
       "      <td>3101033323012310</td>\n",
       "      <td>1786</td>\n",
       "      <td>3363</td>\n",
       "      <td>7</td>\n",
       "      <td>7</td>\n",
       "      <td>3</td>\n",
       "      <td>POLYGON ((122.81616 -10.89804, 122.82166 -10.8...</td>\n",
       "    </tr>\n",
       "    <tr>\n",
       "      <th>6554502</th>\n",
       "      <td>3101222322323122</td>\n",
       "      <td>5672</td>\n",
       "      <td>629</td>\n",
       "      <td>561</td>\n",
       "      <td>4</td>\n",
       "      <td>1</td>\n",
       "      <td>POLYGON ((114.14795 -21.91757, 114.15344 -21.9...</td>\n",
       "    </tr>\n",
       "    <tr>\n",
       "      <th>6554514</th>\n",
       "      <td>3101222332131121</td>\n",
       "      <td>4859</td>\n",
       "      <td>4336</td>\n",
       "      <td>141</td>\n",
       "      <td>2</td>\n",
       "      <td>2</td>\n",
       "      <td>POLYGON ((114.94446 -21.70847, 114.94995 -21.7...</td>\n",
       "    </tr>\n",
       "    <tr>\n",
       "      <th>6554526</th>\n",
       "      <td>3101222333211003</td>\n",
       "      <td>5346</td>\n",
       "      <td>5186</td>\n",
       "      <td>46</td>\n",
       "      <td>3</td>\n",
       "      <td>3</td>\n",
       "      <td>POLYGON ((115.09827 -21.78501, 115.10376 -21.7...</td>\n",
       "    </tr>\n",
       "    <tr>\n",
       "      <th>...</th>\n",
       "      <td>...</td>\n",
       "      <td>...</td>\n",
       "      <td>...</td>\n",
       "      <td>...</td>\n",
       "      <td>...</td>\n",
       "      <td>...</td>\n",
       "      <td>...</td>\n",
       "    </tr>\n",
       "    <tr>\n",
       "      <th>6660825</th>\n",
       "      <td>3130102010302330</td>\n",
       "      <td>6380</td>\n",
       "      <td>9193</td>\n",
       "      <td>35</td>\n",
       "      <td>1</td>\n",
       "      <td>1</td>\n",
       "      <td>POLYGON ((147.16187 -43.25320, 147.16736 -43.2...</td>\n",
       "    </tr>\n",
       "    <tr>\n",
       "      <th>6660835</th>\n",
       "      <td>3130102010320103</td>\n",
       "      <td>6993</td>\n",
       "      <td>602</td>\n",
       "      <td>27</td>\n",
       "      <td>1</td>\n",
       "      <td>1</td>\n",
       "      <td>POLYGON ((147.15637 -43.26521, 147.16187 -43.2...</td>\n",
       "    </tr>\n",
       "    <tr>\n",
       "      <th>6660854</th>\n",
       "      <td>3130102012022011</td>\n",
       "      <td>2049</td>\n",
       "      <td>812</td>\n",
       "      <td>64</td>\n",
       "      <td>2</td>\n",
       "      <td>2</td>\n",
       "      <td>POLYGON ((146.96960 -43.42101, 146.97510 -43.4...</td>\n",
       "    </tr>\n",
       "    <tr>\n",
       "      <th>6660860</th>\n",
       "      <td>3130102012110230</td>\n",
       "      <td>1873</td>\n",
       "      <td>1806</td>\n",
       "      <td>55</td>\n",
       "      <td>1</td>\n",
       "      <td>1</td>\n",
       "      <td>POLYGON ((147.22778 -43.34915, 147.23328 -43.3...</td>\n",
       "    </tr>\n",
       "    <tr>\n",
       "      <th>6660866</th>\n",
       "      <td>3130102012132301</td>\n",
       "      <td>186</td>\n",
       "      <td>25</td>\n",
       "      <td>640</td>\n",
       "      <td>2</td>\n",
       "      <td>1</td>\n",
       "      <td>POLYGON ((147.24426 -43.43697, 147.24976 -43.4...</td>\n",
       "    </tr>\n",
       "  </tbody>\n",
       "</table>\n",
       "<p>2896 rows × 7 columns</p>\n",
       "</div>"
      ],
      "text/plain": [
       "                  quadkey  avg_d_kbps  avg_u_kbps  avg_lat_ms  tests  devices  \\\n",
       "6553220  3101033321313133        5078        1604          17      1        1   \n",
       "6553226  3101033323012310        1786        3363           7      7        3   \n",
       "6554502  3101222322323122        5672         629         561      4        1   \n",
       "6554514  3101222332131121        4859        4336         141      2        2   \n",
       "6554526  3101222333211003        5346        5186          46      3        3   \n",
       "...                   ...         ...         ...         ...    ...      ...   \n",
       "6660825  3130102010302330        6380        9193          35      1        1   \n",
       "6660835  3130102010320103        6993         602          27      1        1   \n",
       "6660854  3130102012022011        2049         812          64      2        2   \n",
       "6660860  3130102012110230        1873        1806          55      1        1   \n",
       "6660866  3130102012132301         186          25         640      2        1   \n",
       "\n",
       "                                                  geometry  \n",
       "6553220  POLYGON ((123.04138 -10.71998, 123.04688 -10.7...  \n",
       "6553226  POLYGON ((122.81616 -10.89804, 122.82166 -10.8...  \n",
       "6554502  POLYGON ((114.14795 -21.91757, 114.15344 -21.9...  \n",
       "6554514  POLYGON ((114.94446 -21.70847, 114.94995 -21.7...  \n",
       "6554526  POLYGON ((115.09827 -21.78501, 115.10376 -21.7...  \n",
       "...                                                    ...  \n",
       "6660825  POLYGON ((147.16187 -43.25320, 147.16736 -43.2...  \n",
       "6660835  POLYGON ((147.15637 -43.26521, 147.16187 -43.2...  \n",
       "6660854  POLYGON ((146.96960 -43.42101, 146.97510 -43.4...  \n",
       "6660860  POLYGON ((147.22778 -43.34915, 147.23328 -43.3...  \n",
       "6660866  POLYGON ((147.24426 -43.43697, 147.24976 -43.4...  \n",
       "\n",
       "[2896 rows x 7 columns]"
      ]
     },
     "execution_count": 19,
     "metadata": {},
     "output_type": "execute_result"
    }
   ],
   "source": [
    "au_tiles.loc[au_tiles['avg_d_kbps'] <10000]\n",
    "#Q2 23 - records less 10Mbps - 3144\n",
    "#Q2 23 - records less 10Mbps - 2896 (down 8%)"
   ]
  },
  {
   "cell_type": "code",
   "execution_count": 38,
   "metadata": {},
   "outputs": [
    {
     "name": "stderr",
     "output_type": "stream",
     "text": [
      "/Users/rf/anaconda3/lib/python3.7/site-packages/ipykernel_launcher.py:1: UserWarning: Geometry is in a geographic CRS. Results from 'centroid' are likely incorrect. Use 'GeoSeries.to_crs()' to re-project geometries to a projected CRS before this operation.\n",
      "\n",
      "  \"\"\"Entry point for launching an IPython kernel.\n"
     ]
    },
    {
     "data": {
      "text/plain": [
       "<matplotlib.axes._subplots.AxesSubplot at 0x7f84bf23d668>"
      ]
     },
     "execution_count": 38,
     "metadata": {},
     "output_type": "execute_result"
    },
    {
     "data": {
      "image/png": "[encoded data removed]",
      "text/plain": [
       "<Figure size 432x288 with 1 Axes>"
      ]
     },
     "metadata": {
      "needs_background": "light"
     },
     "output_type": "display_data"
    }
   ],
   "source": [
    "au_tiles.loc[au_tiles['avg_d_kbps'] <10000].centroid.plot()"
   ]
  },
  {
   "cell_type": "code",
   "execution_count": 52,
   "metadata": {},
   "outputs": [
    {
     "data": {
      "text/plain": [
       "array([[<matplotlib.axes._subplots.AxesSubplot object at 0x7f8479e24940>]],\n",
       "      dtype=object)"
      ]
     },
     "execution_count": 52,
     "metadata": {},
     "output_type": "execute_result"
    },
    {
     "data": {
      "image/png": "[encoded data removed]",
      "text/plain": [
       "<Figure size 432x288 with 1 Axes>"
      ]
     },
     "metadata": {
      "needs_background": "light"
     },
     "output_type": "display_data"
    }
   ],
   "source": [
    "#df.hist(column='session_duration_seconds', bins=25, bins=[0,.5,.75,1]))\n",
    "au_tiles.hist(column='avg_d_kbps', bins=[0,20000, 50000, 100000, 150000, 200000, 300000, 500000])"
   ]
  },
  {
   "cell_type": "code",
   "execution_count": null,
   "metadata": {},
   "outputs": [],
   "source": []
  }
 ],
 "metadata": {
  "kernelspec": {
   "display_name": "Python 3 (ipykernel)",
   "language": "python",
   "name": "python3"
  },
  "language_info": {
   "codemirror_mode": {
    "name": "ipython",
    "version": 3
   },
   "file_extension": ".py",
   "mimetype": "text/x-python",
   "name": "python",
   "nbconvert_exporter": "python",
   "pygments_lexer": "ipython3",
   "version": "3.11.4"
  }
 },
 "nbformat": 4,
 "nbformat_minor": 4
}
