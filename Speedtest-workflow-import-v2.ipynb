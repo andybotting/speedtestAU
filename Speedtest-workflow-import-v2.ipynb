{
 "cells": [
  {
   "cell_type": "markdown",
   "metadata": {},
   "source": [
    "## Speedtest import workflow\n",
    "### Follow steps to import global data, extract AUS, check unique (line count) and save locally and figshare\n",
    "Created: Richard Ferrers, 18/11/22 CC_BY"
   ]
  },
  {
   "cell_type": "code",
   "execution_count": 2,
   "metadata": {
    "tags": []
   },
   "outputs": [],
   "source": [
    "# https://github.com/teamookla/ookla-open-data/blob/master/tutorials/aggregate_by_county_py.ipynb\n",
    "# Speedtest Jupyter Notebook - demonstration code\n",
    "# Pandas cheatsheet - https://pandas.pydata.org/Pandas_Cheat_Sheet.pdf\n",
    "# https://colab.research.google.com/drivespeedtest/.../geopandas.ipynb\n",
    "%matplotlib inline\n",
    "# !pip install geopandas\n",
    "# !pip install shapely\n",
    "# !pip install rtree\n",
    "# !apt-get install -y libspatialindex-dev\n",
    "from datetime import datetime\n",
    "\n",
    "import geopandas as gp\n",
    "import matplotlib\n",
    "import matplotlib.pyplot as plt\n",
    "import pandas as pd\n",
    "import numpy as np\n",
    "\n",
    "from shapely.geometry import Point\n",
    "# from adjustText import adjust_text - this library not loaded\n",
    "\n",
    "# Requirements.yaml\n",
    "# geopandas==0.13.2\n",
    "# pandas==1.5.3\n",
    "# shapely==2.0.1\n",
    "# matplotlib \n",
    "# numpy \n",
    "# python 3.11.4\n"
   ]
  },
  {
   "cell_type": "code",
   "execution_count": 19,
   "metadata": {},
   "outputs": [
    {
     "name": "stdout",
     "output_type": "stream",
     "text": [
      "Python 3.11.4\r\n"
     ]
    }
   ],
   "source": [
    "#!pip freeze | grep -i python --version\n",
    "!python --version"
   ]
  },
  {
   "cell_type": "code",
   "execution_count": 4,
   "metadata": {},
   "outputs": [],
   "source": [
    "# test load NZ data\n",
    "nz_tiles = gp.read_file(\"speedtest-NZ-Q323.geojson\")"
   ]
  },
  {
   "cell_type": "code",
   "execution_count": 5,
   "metadata": {},
   "outputs": [
    {
     "name": "stderr",
     "output_type": "stream",
     "text": [
      "/var/folders/0s/qxd9z2qd38lc_8yjl3wf1qjm36znn7/T/ipykernel_84867/3529910172.py:2: UserWarning: Geometry is in a geographic CRS. Results from 'centroid' are likely incorrect. Use 'GeoSeries.to_crs()' to re-project geometries to a projected CRS before this operation.\n",
      "\n",
      "  nz_tiles.centroid.plot()\n"
     ]
    },
    {
     "data": {
      "text/plain": [
       "<Axes: >"
      ]
     },
     "execution_count": 5,
     "metadata": {},
     "output_type": "execute_result"
    },
    {
     "data": {
      "image/png": "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",
      "text/plain": [
       "<Figure size 640x480 with 1 Axes>"
      ]
     },
     "metadata": {},
     "output_type": "display_data"
    }
   ],
   "source": [
    "# test plot NZ data\n",
    "# #nz_tiles.explore(column = \"avg_d_kbps\", scheme=\"NaturalBreaks\" )\n",
    "# #nz_tiles.explore(column = \"avg_d_kbps\", scheme=\"UserDefined\", classification_kwds={\'bins\':[0, 50000, 100000, 250000]} )\n",
    "# #geopandas plot - https://geopandas.org/en/stable/docs/reference/api/geopandas.GeoDataFrame.plot.html\n",
    "# #geopandas tutorial user guide - https://geopandas.org/en/stable/docs/user_guide/mapping.html\n",
    "nz_tiles.centroid.plot()"
   ]
  },
  {
   "cell_type": "code",
   "execution_count": 2,
   "metadata": {
    "tags": []
   },
   "outputs": [],
   "source": [
    "def quarter_start(year: int, q: int) -> datetime:\n",
    "    if not 1 <= q <= 4:\n",
    "        raise ValueError(\"Quarter must be within [1, 2, 3, 4]\")\n",
    "\n",
    "    month = [1, 4, 7, 10]\n",
    "    return datetime(year, month[q - 1], 1)\n",
    "\n",
    "\n",
    "def get_tile_url(service_type: str, year: int, q: int) -> str:\n",
    "    dt = quarter_start(year, q)\n",
    "\n",
    "    base_url = \"https://ookla-open-data.s3-us-west-2.amazonaws.com/shapefiles/performance\"\n",
    "    url = f\"{base_url}/type%3D{service_type}/year%3D{dt:%Y}/quarter%3D{q}/{dt:%Y-%m-%d}_performance_fixed_tiles.zip\"\n",
    "    return url\n",
    "\n",
    "#speedtest import data from aws"
   ]
  },
  {
   "cell_type": "code",
   "execution_count": 3,
   "metadata": {
    "tags": []
   },
   "outputs": [
    {
     "data": {
      "text/plain": [
       "'https://ookla-open-data.s3-us-west-2.amazonaws.com/shapefiles/performance/type%3Dfixed/year%3D2023/quarter%3D4/2023-10-01_performance_fixed_tiles.zip'"
      ]
     },
     "execution_count": 3,
     "metadata": {},
     "output_type": "execute_result"
    }
   ],
   "source": [
    "tile_url = get_tile_url(\"fixed\", 2023, 4)\n",
    "tile_url\n",
    "#let's load Q2, Q3 22 data"
   ]
  },
  {
   "cell_type": "code",
   "execution_count": 4,
   "metadata": {
    "tags": []
   },
   "outputs": [
    {
     "name": "stdout",
     "output_type": "stream",
     "text": [
      "2024-02-15 13:22:03.381410\n"
     ]
    }
   ],
   "source": [
    "print (datetime.now())\n",
    "# tells me how long takes to import data"
   ]
  },
  {
   "cell_type": "code",
   "execution_count": 6,
   "metadata": {
    "tags": []
   },
   "outputs": [],
   "source": [
    "tiles = gp.read_file(tile_url)\n",
    "# load times - 30 mins (Sun pm), 8 mins (Mon am), 12mins (Sun pm), 11mins (Sat pm)\n",
    "# load time -  12 mins (Fri am), 14 mins (Fri am)\n",
    "# load time - 6 mins, (Fri pm),  6 mins (Fri pm) (now at 100Mbps, was 50Mbps)\n",
    "# load time - x mins (Fri pm) (on 100Mbps NBN)\n",
    "# load time - 7 mins (Th pm) (on 1Gbps Monash LAN)\n",
    "# load time - 6 mins (Fri am) on Monash eduroam"
   ]
  },
  {
   "cell_type": "code",
   "execution_count": 3,
   "metadata": {
    "tags": []
   },
   "outputs": [
    {
     "name": "stdout",
     "output_type": "stream",
     "text": [
      "2024-02-15 15:02:19.654933\n"
     ]
    }
   ],
   "source": [
    "print (datetime.now())"
   ]
  },
  {
   "cell_type": "code",
   "execution_count": 5,
   "metadata": {
    "tags": []
   },
   "outputs": [
    {
     "ename": "NameError",
     "evalue": "name 'tiles' is not defined",
     "output_type": "error",
     "traceback": [
      "\u001b[0;31m---------------------------------------------------------------------------\u001b[0m",
      "\u001b[0;31mNameError\u001b[0m                                 Traceback (most recent call last)",
      "Cell \u001b[0;32mIn[5], line 1\u001b[0m\n\u001b[0;32m----> 1\u001b[0m \u001b[38;5;28mlen\u001b[39m(tiles)\n",
      "\u001b[0;31mNameError\u001b[0m: name 'tiles' is not defined"
     ]
    }
   ],
   "source": [
    "len(tiles)\n",
    "# Q1 21 - 6.3M lines\n",
    "# Q2 21 - 6.7M lines (global)\n",
    "# Q3 21 - 6.9M lines\n",
    "# Q4 21 - 6.7M lines (AU 86115 lines)\n",
    "# Q1 22 - 6.7M lines (AU 88182 lines)\n",
    "# Q2 22 - 6.6M lines (AU 86704 lines)\n",
    "# Q3 22 - 6.609M lines (AU 83458 lines)\n",
    "# Q1 23 - 6.334M lines (AU 89619 lines)\n",
    "# Q2 23 - 6.370M lines (AU 90258 lines)\n",
    "# Q3 23 - 6.67M lines (AU 90249 lines) \n",
    "# Q4 23 - 6.65M lines (AU 91750 lines)\n",
    "\n",
    "# how to save/load\n",
    "#au_tiles.to_file(\"speedtest-AUS-Q221.geojson\", driver='GeoJSON')\n",
    "#working - reloaded successfully\n",
    "# au2_tiles = gp.read_file(\"speedtest.geojson\")"
   ]
  },
  {
   "cell_type": "code",
   "execution_count": 9,
   "metadata": {
    "tags": []
   },
   "outputs": [
    {
     "data": {
      "text/plain": [
       "91750"
      ]
     },
     "execution_count": 9,
     "metadata": {},
     "output_type": "execute_result"
    }
   ],
   "source": [
    "au_tiles = tiles.cx[113.338953:153.569469 ,\t-43.634597:-10.668186]\n",
    "#nz_tiles = tiles.cx[166.509144322:178.517093541 ,\t-46.641235447:-34.4506617165]\n",
    "#LAX = tiles.cx[-118:-120, 33:35]\n",
    "len(au_tiles) \n",
    "#len(nz_tiles)\n",
    "# processing World data to Australia subset by bounding box\n",
    "# source of Bounding Box - World data set\n",
    "# processing time - 5 mins, 9 mins, <1min (M2)"
   ]
  },
  {
   "cell_type": "code",
   "execution_count": 10,
   "metadata": {
    "tags": []
   },
   "outputs": [],
   "source": [
    " au_tiles.to_file(\"speedtest-AUS-Q423.geojson\", driver='GeoJSON')\n",
    "#nz_tiles.to_file(\"speedtest-NZ-Q323.geojson\", driver='GeoJSON')\n",
    "\n",
    "#write to disk\n",
    "# then load to figshare: CC-BY-NC https://doi.org/10.6084/m9.figshare.13370504 (Currently at.v22)"
   ]
  },
  {
   "cell_type": "code",
   "execution_count": 11,
   "metadata": {
    "tags": []
   },
   "outputs": [
    {
     "name": "stderr",
     "output_type": "stream",
     "text": [
      "/var/folders/0s/qxd9z2qd38lc_8yjl3wf1qjm36znn7/T/ipykernel_71356/2881521459.py:1: UserWarning: Geometry is in a geographic CRS. Results from 'centroid' are likely incorrect. Use 'GeoSeries.to_crs()' to re-project geometries to a projected CRS before this operation.\n",
      "\n",
      "  au_tiles.centroid.plot()\n"
     ]
    },
    {
     "data": {
      "text/plain": [
       "<Axes: >"
      ]
     },
     "execution_count": 11,
     "metadata": {},
     "output_type": "execute_result"
    },
    {
     "data": {
      "image/png": "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",
      "text/plain": [
       "<Figure size 640x480 with 1 Axes>"
      ]
     },
     "metadata": {},
     "output_type": "display_data"
    }
   ],
   "source": [
    "au_tiles.centroid.plot()\n",
    "#nz_tiles.centroid.plot()\n",
    "# Visual data inspection\n",
    "# Q222 - looks like some E.Timor data or Coral Sea (New Guinea?)\n",
    "# Q423 - looks like E. Timor and Coral Sea, plus Barrier Reef?"
   ]
  },
  {
   "cell_type": "code",
   "execution_count": 12,
   "metadata": {
    "tags": []
   },
   "outputs": [
    {
     "data": {
      "text/plain": [
       "82862.42116621253"
      ]
     },
     "execution_count": 12,
     "metadata": {},
     "output_type": "execute_result"
    }
   ],
   "source": [
    "au_tiles['avg_d_kbps'].mean()\n",
    "#nz_tiles['avg_d_kbps'].mean()\n",
    "# Q2 21 - 52314\n",
    "# Q3 21 - 54854\n",
    "# Q4 21 - 57645\n",
    "# Q1 22 - 56873\n",
    "# Q2 22 - 58442\n",
    "# Q3 22 - 61658\n",
    "# Q1 23 - 69696\n",
    "# Q2 23 - 74254\n",
    "# Q3 23 - 79082\n",
    "#NZ-Q3 23 - 154335\n"
   ]
  },
  {
   "cell_type": "code",
   "execution_count": 13,
   "metadata": {
    "tags": []
   },
   "outputs": [
    {
     "data": {
      "text/html": [
       "<div>\n",
       "<style scoped>\n",
       "    .dataframe tbody tr th:only-of-type {\n",
       "        vertical-align: middle;\n",
       "    }\n",
       "\n",
       "    .dataframe tbody tr th {\n",
       "        vertical-align: top;\n",
       "    }\n",
       "\n",
       "    .dataframe thead th {\n",
       "        text-align: right;\n",
       "    }\n",
       "</style>\n",
       "<table border=\"1\" class=\"dataframe\">\n",
       "  <thead>\n",
       "    <tr style=\"text-align: right;\">\n",
       "      <th></th>\n",
       "      <th>avg_d_kbps</th>\n",
       "      <th>avg_u_kbps</th>\n",
       "      <th>avg_lat_ms</th>\n",
       "      <th>tests</th>\n",
       "      <th>devices</th>\n",
       "    </tr>\n",
       "  </thead>\n",
       "  <tbody>\n",
       "    <tr>\n",
       "      <th>count</th>\n",
       "      <td>91750.000000</td>\n",
       "      <td>91750.000000</td>\n",
       "      <td>91750.000000</td>\n",
       "      <td>91750.000000</td>\n",
       "      <td>91750.000000</td>\n",
       "    </tr>\n",
       "    <tr>\n",
       "      <th>mean</th>\n",
       "      <td>82862.421166</td>\n",
       "      <td>17868.419902</td>\n",
       "      <td>40.059553</td>\n",
       "      <td>18.005123</td>\n",
       "      <td>5.642005</td>\n",
       "    </tr>\n",
       "    <tr>\n",
       "      <th>std</th>\n",
       "      <td>63190.889435</td>\n",
       "      <td>19269.786572</td>\n",
       "      <td>92.146631</td>\n",
       "      <td>34.261559</td>\n",
       "      <td>9.824661</td>\n",
       "    </tr>\n",
       "    <tr>\n",
       "      <th>min</th>\n",
       "      <td>1.000000</td>\n",
       "      <td>1.000000</td>\n",
       "      <td>0.000000</td>\n",
       "      <td>1.000000</td>\n",
       "      <td>1.000000</td>\n",
       "    </tr>\n",
       "    <tr>\n",
       "      <th>25%</th>\n",
       "      <td>41169.000000</td>\n",
       "      <td>9924.000000</td>\n",
       "      <td>11.000000</td>\n",
       "      <td>2.000000</td>\n",
       "      <td>1.000000</td>\n",
       "    </tr>\n",
       "    <tr>\n",
       "      <th>50%</th>\n",
       "      <td>67555.000000</td>\n",
       "      <td>16297.500000</td>\n",
       "      <td>19.000000</td>\n",
       "      <td>5.000000</td>\n",
       "      <td>2.000000</td>\n",
       "    </tr>\n",
       "    <tr>\n",
       "      <th>75%</th>\n",
       "      <td>108043.500000</td>\n",
       "      <td>20500.000000</td>\n",
       "      <td>38.000000</td>\n",
       "      <td>21.000000</td>\n",
       "      <td>7.000000</td>\n",
       "    </tr>\n",
       "    <tr>\n",
       "      <th>max</th>\n",
       "      <td>937600.000000</td>\n",
       "      <td>599626.000000</td>\n",
       "      <td>2374.000000</td>\n",
       "      <td>1513.000000</td>\n",
       "      <td>545.000000</td>\n",
       "    </tr>\n",
       "  </tbody>\n",
       "</table>\n",
       "</div>"
      ],
      "text/plain": [
       "          avg_d_kbps     avg_u_kbps    avg_lat_ms         tests       devices\n",
       "count   91750.000000   91750.000000  91750.000000  91750.000000  91750.000000\n",
       "mean    82862.421166   17868.419902     40.059553     18.005123      5.642005\n",
       "std     63190.889435   19269.786572     92.146631     34.261559      9.824661\n",
       "min         1.000000       1.000000      0.000000      1.000000      1.000000\n",
       "25%     41169.000000    9924.000000     11.000000      2.000000      1.000000\n",
       "50%     67555.000000   16297.500000     19.000000      5.000000      2.000000\n",
       "75%    108043.500000   20500.000000     38.000000     21.000000      7.000000\n",
       "max    937600.000000  599626.000000   2374.000000   1513.000000    545.000000"
      ]
     },
     "execution_count": 13,
     "metadata": {},
     "output_type": "execute_result"
    }
   ],
   "source": [
    "au_tiles.describe()\n",
    "#nz_tiles.describe()"
   ]
  },
  {
   "cell_type": "code",
   "execution_count": 17,
   "metadata": {
    "tags": []
   },
   "outputs": [
    {
     "data": {
      "text/html": [
       "<div>\n",
       "<style scoped>\n",
       "    .dataframe tbody tr th:only-of-type {\n",
       "        vertical-align: middle;\n",
       "    }\n",
       "\n",
       "    .dataframe tbody tr th {\n",
       "        vertical-align: top;\n",
       "    }\n",
       "\n",
       "    .dataframe thead th {\n",
       "        text-align: right;\n",
       "    }\n",
       "</style>\n",
       "<table border=\"1\" class=\"dataframe\">\n",
       "  <thead>\n",
       "    <tr style=\"text-align: right;\">\n",
       "      <th></th>\n",
       "      <th>quadkey</th>\n",
       "      <th>avg_d_kbps</th>\n",
       "      <th>avg_u_kbps</th>\n",
       "      <th>avg_lat_ms</th>\n",
       "      <th>tests</th>\n",
       "      <th>devices</th>\n",
       "      <th>geometry</th>\n",
       "    </tr>\n",
       "  </thead>\n",
       "  <tbody>\n",
       "    <tr>\n",
       "      <th>6553220</th>\n",
       "      <td>3101033321313133</td>\n",
       "      <td>5078</td>\n",
       "      <td>1604</td>\n",
       "      <td>17</td>\n",
       "      <td>1</td>\n",
       "      <td>1</td>\n",
       "      <td>POLYGON ((123.04138 -10.71998, 123.04688 -10.7...</td>\n",
       "    </tr>\n",
       "    <tr>\n",
       "      <th>6553221</th>\n",
       "      <td>3101033321331111</td>\n",
       "      <td>14622</td>\n",
       "      <td>14495</td>\n",
       "      <td>6</td>\n",
       "      <td>6</td>\n",
       "      <td>1</td>\n",
       "      <td>POLYGON ((123.04138 -10.74697, 123.04688 -10.7...</td>\n",
       "    </tr>\n",
       "    <tr>\n",
       "      <th>6553222</th>\n",
       "      <td>3101033321331132</td>\n",
       "      <td>28031</td>\n",
       "      <td>7409</td>\n",
       "      <td>8</td>\n",
       "      <td>1</td>\n",
       "      <td>1</td>\n",
       "      <td>POLYGON ((123.03589 -10.76316, 123.04138 -10.7...</td>\n",
       "    </tr>\n",
       "    <tr>\n",
       "      <th>6553223</th>\n",
       "      <td>3101033321331303</td>\n",
       "      <td>36466</td>\n",
       "      <td>8536</td>\n",
       "      <td>5</td>\n",
       "      <td>3</td>\n",
       "      <td>1</td>\n",
       "      <td>POLYGON ((123.03040 -10.77395, 123.03589 -10.7...</td>\n",
       "    </tr>\n",
       "    <tr>\n",
       "      <th>6553224</th>\n",
       "      <td>3101033321332130</td>\n",
       "      <td>18230</td>\n",
       "      <td>10074</td>\n",
       "      <td>5</td>\n",
       "      <td>2</td>\n",
       "      <td>1</td>\n",
       "      <td>POLYGON ((122.99194 -10.80093, 122.99744 -10.8...</td>\n",
       "    </tr>\n",
       "    <tr>\n",
       "      <th>...</th>\n",
       "      <td>...</td>\n",
       "      <td>...</td>\n",
       "      <td>...</td>\n",
       "      <td>...</td>\n",
       "      <td>...</td>\n",
       "      <td>...</td>\n",
       "      <td>...</td>\n",
       "    </tr>\n",
       "    <tr>\n",
       "      <th>6660886</th>\n",
       "      <td>3130102100030011</td>\n",
       "      <td>11108</td>\n",
       "      <td>497</td>\n",
       "      <td>268</td>\n",
       "      <td>15</td>\n",
       "      <td>1</td>\n",
       "      <td>POLYGON ((147.76062 -43.13306, 147.76611 -43.1...</td>\n",
       "    </tr>\n",
       "    <tr>\n",
       "      <th>6660887</th>\n",
       "      <td>3130102100102231</td>\n",
       "      <td>69268</td>\n",
       "      <td>4745</td>\n",
       "      <td>37</td>\n",
       "      <td>3</td>\n",
       "      <td>1</td>\n",
       "      <td>POLYGON ((147.84851 -43.12504, 147.85400 -43.1...</td>\n",
       "    </tr>\n",
       "    <tr>\n",
       "      <th>6660888</th>\n",
       "      <td>3130102100102323</td>\n",
       "      <td>140487</td>\n",
       "      <td>11970</td>\n",
       "      <td>50</td>\n",
       "      <td>2</td>\n",
       "      <td>1</td>\n",
       "      <td>POLYGON ((147.85950 -43.12905, 147.86499 -43.1...</td>\n",
       "    </tr>\n",
       "    <tr>\n",
       "      <th>6660889</th>\n",
       "      <td>3130102100120013</td>\n",
       "      <td>44510</td>\n",
       "      <td>7855</td>\n",
       "      <td>37</td>\n",
       "      <td>3</td>\n",
       "      <td>1</td>\n",
       "      <td>POLYGON ((147.84851 -43.13707, 147.85400 -43.1...</td>\n",
       "    </tr>\n",
       "    <tr>\n",
       "      <th>6660890</th>\n",
       "      <td>3130102100120133</td>\n",
       "      <td>16908</td>\n",
       "      <td>1592</td>\n",
       "      <td>69</td>\n",
       "      <td>1</td>\n",
       "      <td>1</td>\n",
       "      <td>POLYGON ((147.87048 -43.14509, 147.87598 -43.1...</td>\n",
       "    </tr>\n",
       "  </tbody>\n",
       "</table>\n",
       "<p>90249 rows × 7 columns</p>\n",
       "</div>"
      ],
      "text/plain": [
       "                  quadkey  avg_d_kbps  avg_u_kbps  avg_lat_ms  tests  devices  \\\n",
       "6553220  3101033321313133        5078        1604          17      1        1   \n",
       "6553221  3101033321331111       14622       14495           6      6        1   \n",
       "6553222  3101033321331132       28031        7409           8      1        1   \n",
       "6553223  3101033321331303       36466        8536           5      3        1   \n",
       "6553224  3101033321332130       18230       10074           5      2        1   \n",
       "...                   ...         ...         ...         ...    ...      ...   \n",
       "6660886  3130102100030011       11108         497         268     15        1   \n",
       "6660887  3130102100102231       69268        4745          37      3        1   \n",
       "6660888  3130102100102323      140487       11970          50      2        1   \n",
       "6660889  3130102100120013       44510        7855          37      3        1   \n",
       "6660890  3130102100120133       16908        1592          69      1        1   \n",
       "\n",
       "                                                  geometry  \n",
       "6553220  POLYGON ((123.04138 -10.71998, 123.04688 -10.7...  \n",
       "6553221  POLYGON ((123.04138 -10.74697, 123.04688 -10.7...  \n",
       "6553222  POLYGON ((123.03589 -10.76316, 123.04138 -10.7...  \n",
       "6553223  POLYGON ((123.03040 -10.77395, 123.03589 -10.7...  \n",
       "6553224  POLYGON ((122.99194 -10.80093, 122.99744 -10.8...  \n",
       "...                                                    ...  \n",
       "6660886  POLYGON ((147.76062 -43.13306, 147.76611 -43.1...  \n",
       "6660887  POLYGON ((147.84851 -43.12504, 147.85400 -43.1...  \n",
       "6660888  POLYGON ((147.85950 -43.12905, 147.86499 -43.1...  \n",
       "6660889  POLYGON ((147.84851 -43.13707, 147.85400 -43.1...  \n",
       "6660890  POLYGON ((147.87048 -43.14509, 147.87598 -43.1...  \n",
       "\n",
       "[90249 rows x 7 columns]"
      ]
     },
     "execution_count": 17,
     "metadata": {},
     "output_type": "execute_result"
    }
   ],
   "source": [
    "# to do - post to Figshare DONE.\n",
    "# plot AUS line histogram.\n",
    "au_tiles"
   ]
  },
  {
   "cell_type": "code",
   "execution_count": 32,
   "metadata": {},
   "outputs": [
    {
     "name": "stderr",
     "output_type": "stream",
     "text": [
      "/Users/rf/anaconda3/lib/python3.7/site-packages/ipykernel_launcher.py:1: UserWarning: Geometry is in a geographic CRS. Results from 'centroid' are likely incorrect. Use 'GeoSeries.to_crs()' to re-project geometries to a projected CRS before this operation.\n",
      "\n",
      "  \"\"\"Entry point for launching an IPython kernel.\n"
     ]
    },
    {
     "data": {
      "text/plain": [
       "<matplotlib.axes._subplots.AxesSubplot at 0x7f849ad779b0>"
      ]
     },
     "execution_count": 32,
     "metadata": {},
     "output_type": "execute_result"
    },
    {
     "data": {
      "image/png": "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\n",
      "text/plain": [
       "<Figure size 432x288 with 1 Axes>"
      ]
     },
     "metadata": {
      "needs_background": "light"
     },
     "output_type": "display_data"
    }
   ],
   "source": [
    "au_tiles.loc[au_tiles['avg_d_kbps'] > 200000].centroid.plot()"
   ]
  },
  {
   "cell_type": "code",
   "execution_count": 18,
   "metadata": {
    "tags": []
   },
   "outputs": [
    {
     "data": {
      "text/html": [
       "<div>\n",
       "<style scoped>\n",
       "    .dataframe tbody tr th:only-of-type {\n",
       "        vertical-align: middle;\n",
       "    }\n",
       "\n",
       "    .dataframe tbody tr th {\n",
       "        vertical-align: top;\n",
       "    }\n",
       "\n",
       "    .dataframe thead th {\n",
       "        text-align: right;\n",
       "    }\n",
       "</style>\n",
       "<table border=\"1\" class=\"dataframe\">\n",
       "  <thead>\n",
       "    <tr style=\"text-align: right;\">\n",
       "      <th></th>\n",
       "      <th>quadkey</th>\n",
       "      <th>avg_d_kbps</th>\n",
       "      <th>avg_u_kbps</th>\n",
       "      <th>avg_lat_ms</th>\n",
       "      <th>tests</th>\n",
       "      <th>devices</th>\n",
       "      <th>geometry</th>\n",
       "    </tr>\n",
       "  </thead>\n",
       "  <tbody>\n",
       "    <tr>\n",
       "      <th>6554481</th>\n",
       "      <td>3101213323133200</td>\n",
       "      <td>238820</td>\n",
       "      <td>14816</td>\n",
       "      <td>84</td>\n",
       "      <td>3</td>\n",
       "      <td>2</td>\n",
       "      <td>POLYGON ((123.00293 -16.44662, 123.00842 -16.4...</td>\n",
       "    </tr>\n",
       "    <tr>\n",
       "      <th>6554482</th>\n",
       "      <td>3101213323133202</td>\n",
       "      <td>206423</td>\n",
       "      <td>23215</td>\n",
       "      <td>99</td>\n",
       "      <td>1</td>\n",
       "      <td>1</td>\n",
       "      <td>POLYGON ((123.00293 -16.45189, 123.00842 -16.4...</td>\n",
       "    </tr>\n",
       "    <tr>\n",
       "      <th>6554485</th>\n",
       "      <td>3101213323303002</td>\n",
       "      <td>265139</td>\n",
       "      <td>19143</td>\n",
       "      <td>110</td>\n",
       "      <td>2</td>\n",
       "      <td>2</td>\n",
       "      <td>POLYGON ((122.91504 -16.51510, 122.92053 -16.5...</td>\n",
       "    </tr>\n",
       "    <tr>\n",
       "      <th>6554488</th>\n",
       "      <td>3101222322213112</td>\n",
       "      <td>226467</td>\n",
       "      <td>10941</td>\n",
       "      <td>127</td>\n",
       "      <td>1</td>\n",
       "      <td>1</td>\n",
       "      <td>POLYGON ((114.07104 -21.82581, 114.07654 -21.8...</td>\n",
       "    </tr>\n",
       "    <tr>\n",
       "      <th>6554489</th>\n",
       "      <td>3101222322230200</td>\n",
       "      <td>220395</td>\n",
       "      <td>20808</td>\n",
       "      <td>30</td>\n",
       "      <td>1</td>\n",
       "      <td>1</td>\n",
       "      <td>POLYGON ((113.99414 -21.88189, 113.99963 -21.8...</td>\n",
       "    </tr>\n",
       "    <tr>\n",
       "      <th>...</th>\n",
       "      <td>...</td>\n",
       "      <td>...</td>\n",
       "      <td>...</td>\n",
       "      <td>...</td>\n",
       "      <td>...</td>\n",
       "      <td>...</td>\n",
       "      <td>...</td>\n",
       "    </tr>\n",
       "    <tr>\n",
       "      <th>6660838</th>\n",
       "      <td>3130102010321311</td>\n",
       "      <td>233510</td>\n",
       "      <td>19542</td>\n",
       "      <td>63</td>\n",
       "      <td>2</td>\n",
       "      <td>1</td>\n",
       "      <td>POLYGON ((147.21130 -43.27721, 147.21680 -43.2...</td>\n",
       "    </tr>\n",
       "    <tr>\n",
       "      <th>6660843</th>\n",
       "      <td>3130102010332301</td>\n",
       "      <td>286693</td>\n",
       "      <td>21981</td>\n",
       "      <td>49</td>\n",
       "      <td>2</td>\n",
       "      <td>2</td>\n",
       "      <td>POLYGON ((147.24426 -43.30919, 147.24976 -43.3...</td>\n",
       "    </tr>\n",
       "    <tr>\n",
       "      <th>6660870</th>\n",
       "      <td>3130102013002133</td>\n",
       "      <td>268345</td>\n",
       "      <td>7509</td>\n",
       "      <td>54</td>\n",
       "      <td>1</td>\n",
       "      <td>1</td>\n",
       "      <td>POLYGON ((147.34314 -43.36912, 147.34863 -43.3...</td>\n",
       "    </tr>\n",
       "    <tr>\n",
       "      <th>6660878</th>\n",
       "      <td>3130102100003203</td>\n",
       "      <td>247079</td>\n",
       "      <td>15638</td>\n",
       "      <td>50</td>\n",
       "      <td>1</td>\n",
       "      <td>1</td>\n",
       "      <td>POLYGON ((147.70569 -43.12103, 147.71118 -43.1...</td>\n",
       "    </tr>\n",
       "    <tr>\n",
       "      <th>6660879</th>\n",
       "      <td>3130102100003222</td>\n",
       "      <td>226503</td>\n",
       "      <td>18453</td>\n",
       "      <td>52</td>\n",
       "      <td>18</td>\n",
       "      <td>1</td>\n",
       "      <td>POLYGON ((147.70020 -43.12905, 147.70569 -43.1...</td>\n",
       "    </tr>\n",
       "  </tbody>\n",
       "</table>\n",
       "<p>3948 rows × 7 columns</p>\n",
       "</div>"
      ],
      "text/plain": [
       "                  quadkey  avg_d_kbps  avg_u_kbps  avg_lat_ms  tests  devices  \\\n",
       "6554481  3101213323133200      238820       14816          84      3        2   \n",
       "6554482  3101213323133202      206423       23215          99      1        1   \n",
       "6554485  3101213323303002      265139       19143         110      2        2   \n",
       "6554488  3101222322213112      226467       10941         127      1        1   \n",
       "6554489  3101222322230200      220395       20808          30      1        1   \n",
       "...                   ...         ...         ...         ...    ...      ...   \n",
       "6660838  3130102010321311      233510       19542          63      2        1   \n",
       "6660843  3130102010332301      286693       21981          49      2        2   \n",
       "6660870  3130102013002133      268345        7509          54      1        1   \n",
       "6660878  3130102100003203      247079       15638          50      1        1   \n",
       "6660879  3130102100003222      226503       18453          52     18        1   \n",
       "\n",
       "                                                  geometry  \n",
       "6554481  POLYGON ((123.00293 -16.44662, 123.00842 -16.4...  \n",
       "6554482  POLYGON ((123.00293 -16.45189, 123.00842 -16.4...  \n",
       "6554485  POLYGON ((122.91504 -16.51510, 122.92053 -16.5...  \n",
       "6554488  POLYGON ((114.07104 -21.82581, 114.07654 -21.8...  \n",
       "6554489  POLYGON ((113.99414 -21.88189, 113.99963 -21.8...  \n",
       "...                                                    ...  \n",
       "6660838  POLYGON ((147.21130 -43.27721, 147.21680 -43.2...  \n",
       "6660843  POLYGON ((147.24426 -43.30919, 147.24976 -43.3...  \n",
       "6660870  POLYGON ((147.34314 -43.36912, 147.34863 -43.3...  \n",
       "6660878  POLYGON ((147.70569 -43.12103, 147.71118 -43.1...  \n",
       "6660879  POLYGON ((147.70020 -43.12905, 147.70569 -43.1...  \n",
       "\n",
       "[3948 rows x 7 columns]"
      ]
     },
     "execution_count": 18,
     "metadata": {},
     "output_type": "execute_result"
    }
   ],
   "source": [
    "au_tiles.loc[au_tiles['avg_d_kbps'] >200000]\n",
    "#Q2 23 - records over 200Mbps - 3514\n",
    "#Q2 23 - records over 200Mbps - 3948 (up 15%)"
   ]
  },
  {
   "cell_type": "code",
   "execution_count": 19,
   "metadata": {
    "tags": []
   },
   "outputs": [
    {
     "data": {
      "text/html": [
       "<div>\n",
       "<style scoped>\n",
       "    .dataframe tbody tr th:only-of-type {\n",
       "        vertical-align: middle;\n",
       "    }\n",
       "\n",
       "    .dataframe tbody tr th {\n",
       "        vertical-align: top;\n",
       "    }\n",
       "\n",
       "    .dataframe thead th {\n",
       "        text-align: right;\n",
       "    }\n",
       "</style>\n",
       "<table border=\"1\" class=\"dataframe\">\n",
       "  <thead>\n",
       "    <tr style=\"text-align: right;\">\n",
       "      <th></th>\n",
       "      <th>quadkey</th>\n",
       "      <th>avg_d_kbps</th>\n",
       "      <th>avg_u_kbps</th>\n",
       "      <th>avg_lat_ms</th>\n",
       "      <th>tests</th>\n",
       "      <th>devices</th>\n",
       "      <th>geometry</th>\n",
       "    </tr>\n",
       "  </thead>\n",
       "  <tbody>\n",
       "    <tr>\n",
       "      <th>6553220</th>\n",
       "      <td>3101033321313133</td>\n",
       "      <td>5078</td>\n",
       "      <td>1604</td>\n",
       "      <td>17</td>\n",
       "      <td>1</td>\n",
       "      <td>1</td>\n",
       "      <td>POLYGON ((123.04138 -10.71998, 123.04688 -10.7...</td>\n",
       "    </tr>\n",
       "    <tr>\n",
       "      <th>6553226</th>\n",
       "      <td>3101033323012310</td>\n",
       "      <td>1786</td>\n",
       "      <td>3363</td>\n",
       "      <td>7</td>\n",
       "      <td>7</td>\n",
       "      <td>3</td>\n",
       "      <td>POLYGON ((122.81616 -10.89804, 122.82166 -10.8...</td>\n",
       "    </tr>\n",
       "    <tr>\n",
       "      <th>6554502</th>\n",
       "      <td>3101222322323122</td>\n",
       "      <td>5672</td>\n",
       "      <td>629</td>\n",
       "      <td>561</td>\n",
       "      <td>4</td>\n",
       "      <td>1</td>\n",
       "      <td>POLYGON ((114.14795 -21.91757, 114.15344 -21.9...</td>\n",
       "    </tr>\n",
       "    <tr>\n",
       "      <th>6554514</th>\n",
       "      <td>3101222332131121</td>\n",
       "      <td>4859</td>\n",
       "      <td>4336</td>\n",
       "      <td>141</td>\n",
       "      <td>2</td>\n",
       "      <td>2</td>\n",
       "      <td>POLYGON ((114.94446 -21.70847, 114.94995 -21.7...</td>\n",
       "    </tr>\n",
       "    <tr>\n",
       "      <th>6554526</th>\n",
       "      <td>3101222333211003</td>\n",
       "      <td>5346</td>\n",
       "      <td>5186</td>\n",
       "      <td>46</td>\n",
       "      <td>3</td>\n",
       "      <td>3</td>\n",
       "      <td>POLYGON ((115.09827 -21.78501, 115.10376 -21.7...</td>\n",
       "    </tr>\n",
       "    <tr>\n",
       "      <th>...</th>\n",
       "      <td>...</td>\n",
       "      <td>...</td>\n",
       "      <td>...</td>\n",
       "      <td>...</td>\n",
       "      <td>...</td>\n",
       "      <td>...</td>\n",
       "      <td>...</td>\n",
       "    </tr>\n",
       "    <tr>\n",
       "      <th>6660825</th>\n",
       "      <td>3130102010302330</td>\n",
       "      <td>6380</td>\n",
       "      <td>9193</td>\n",
       "      <td>35</td>\n",
       "      <td>1</td>\n",
       "      <td>1</td>\n",
       "      <td>POLYGON ((147.16187 -43.25320, 147.16736 -43.2...</td>\n",
       "    </tr>\n",
       "    <tr>\n",
       "      <th>6660835</th>\n",
       "      <td>3130102010320103</td>\n",
       "      <td>6993</td>\n",
       "      <td>602</td>\n",
       "      <td>27</td>\n",
       "      <td>1</td>\n",
       "      <td>1</td>\n",
       "      <td>POLYGON ((147.15637 -43.26521, 147.16187 -43.2...</td>\n",
       "    </tr>\n",
       "    <tr>\n",
       "      <th>6660854</th>\n",
       "      <td>3130102012022011</td>\n",
       "      <td>2049</td>\n",
       "      <td>812</td>\n",
       "      <td>64</td>\n",
       "      <td>2</td>\n",
       "      <td>2</td>\n",
       "      <td>POLYGON ((146.96960 -43.42101, 146.97510 -43.4...</td>\n",
       "    </tr>\n",
       "    <tr>\n",
       "      <th>6660860</th>\n",
       "      <td>3130102012110230</td>\n",
       "      <td>1873</td>\n",
       "      <td>1806</td>\n",
       "      <td>55</td>\n",
       "      <td>1</td>\n",
       "      <td>1</td>\n",
       "      <td>POLYGON ((147.22778 -43.34915, 147.23328 -43.3...</td>\n",
       "    </tr>\n",
       "    <tr>\n",
       "      <th>6660866</th>\n",
       "      <td>3130102012132301</td>\n",
       "      <td>186</td>\n",
       "      <td>25</td>\n",
       "      <td>640</td>\n",
       "      <td>2</td>\n",
       "      <td>1</td>\n",
       "      <td>POLYGON ((147.24426 -43.43697, 147.24976 -43.4...</td>\n",
       "    </tr>\n",
       "  </tbody>\n",
       "</table>\n",
       "<p>2896 rows × 7 columns</p>\n",
       "</div>"
      ],
      "text/plain": [
       "                  quadkey  avg_d_kbps  avg_u_kbps  avg_lat_ms  tests  devices  \\\n",
       "6553220  3101033321313133        5078        1604          17      1        1   \n",
       "6553226  3101033323012310        1786        3363           7      7        3   \n",
       "6554502  3101222322323122        5672         629         561      4        1   \n",
       "6554514  3101222332131121        4859        4336         141      2        2   \n",
       "6554526  3101222333211003        5346        5186          46      3        3   \n",
       "...                   ...         ...         ...         ...    ...      ...   \n",
       "6660825  3130102010302330        6380        9193          35      1        1   \n",
       "6660835  3130102010320103        6993         602          27      1        1   \n",
       "6660854  3130102012022011        2049         812          64      2        2   \n",
       "6660860  3130102012110230        1873        1806          55      1        1   \n",
       "6660866  3130102012132301         186          25         640      2        1   \n",
       "\n",
       "                                                  geometry  \n",
       "6553220  POLYGON ((123.04138 -10.71998, 123.04688 -10.7...  \n",
       "6553226  POLYGON ((122.81616 -10.89804, 122.82166 -10.8...  \n",
       "6554502  POLYGON ((114.14795 -21.91757, 114.15344 -21.9...  \n",
       "6554514  POLYGON ((114.94446 -21.70847, 114.94995 -21.7...  \n",
       "6554526  POLYGON ((115.09827 -21.78501, 115.10376 -21.7...  \n",
       "...                                                    ...  \n",
       "6660825  POLYGON ((147.16187 -43.25320, 147.16736 -43.2...  \n",
       "6660835  POLYGON ((147.15637 -43.26521, 147.16187 -43.2...  \n",
       "6660854  POLYGON ((146.96960 -43.42101, 146.97510 -43.4...  \n",
       "6660860  POLYGON ((147.22778 -43.34915, 147.23328 -43.3...  \n",
       "6660866  POLYGON ((147.24426 -43.43697, 147.24976 -43.4...  \n",
       "\n",
       "[2896 rows x 7 columns]"
      ]
     },
     "execution_count": 19,
     "metadata": {},
     "output_type": "execute_result"
    }
   ],
   "source": [
    "au_tiles.loc[au_tiles['avg_d_kbps'] <10000]\n",
    "#Q2 23 - records less 10Mbps - 3144\n",
    "#Q2 23 - records less 10Mbps - 2896 (down 8%)"
   ]
  },
  {
   "cell_type": "code",
   "execution_count": 38,
   "metadata": {},
   "outputs": [
    {
     "name": "stderr",
     "output_type": "stream",
     "text": [
      "/Users/rf/anaconda3/lib/python3.7/site-packages/ipykernel_launcher.py:1: UserWarning: Geometry is in a geographic CRS. Results from 'centroid' are likely incorrect. Use 'GeoSeries.to_crs()' to re-project geometries to a projected CRS before this operation.\n",
      "\n",
      "  \"\"\"Entry point for launching an IPython kernel.\n"
     ]
    },
    {
     "data": {
      "text/plain": [
       "<matplotlib.axes._subplots.AxesSubplot at 0x7f84bf23d668>"
      ]
     },
     "execution_count": 38,
     "metadata": {},
     "output_type": "execute_result"
    },
    {
     "data": {
      "image/png": "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\n",
      "text/plain": [
       "<Figure size 432x288 with 1 Axes>"
      ]
     },
     "metadata": {
      "needs_background": "light"
     },
     "output_type": "display_data"
    }
   ],
   "source": [
    "au_tiles.loc[au_tiles['avg_d_kbps'] <10000].centroid.plot()"
   ]
  },
  {
   "cell_type": "code",
   "execution_count": 52,
   "metadata": {},
   "outputs": [
    {
     "data": {
      "text/plain": [
       "array([[<matplotlib.axes._subplots.AxesSubplot object at 0x7f8479e24940>]],\n",
       "      dtype=object)"
      ]
     },
     "execution_count": 52,
     "metadata": {},
     "output_type": "execute_result"
    },
    {
     "data": {
      "image/png": "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\n",
      "text/plain": [
       "<Figure size 432x288 with 1 Axes>"
      ]
     },
     "metadata": {
      "needs_background": "light"
     },
     "output_type": "display_data"
    }
   ],
   "source": [
    "#df.hist(column='session_duration_seconds', bins=25, bins=[0,.5,.75,1]))\n",
    "au_tiles.hist(column='avg_d_kbps', bins=[0,20000, 50000, 100000, 150000, 200000, 300000, 500000])"
   ]
  },
  {
   "cell_type": "code",
   "execution_count": null,
   "metadata": {},
   "outputs": [],
   "source": []
  }
 ],
 "metadata": {
  "kernelspec": {
   "display_name": "Python 3 (ipykernel)",
   "language": "python",
   "name": "python3"
  },
  "language_info": {
   "codemirror_mode": {
    "name": "ipython",
    "version": 3
   },
   "file_extension": ".py",
   "mimetype": "text/x-python",
   "name": "python",
   "nbconvert_exporter": "python",
   "pygments_lexer": "ipython3",
   "version": "3.11.4"
  }
 },
 "nbformat": 4,
 "nbformat_minor": 4
}
