{
 "cells": [
  {
   "cell_type": "markdown",
   "metadata": {},
   "source": [
    "## Speedtest import workflow\n",
    "### Follow steps to import global data, extract AUS, check unique (line count) and save locally and figshare\n",
    "Created: Richard Ferrers, 18/11/22 CC_BY"
   ]
  },
  {
   "cell_type": "code",
   "execution_count": 1,
   "metadata": {
    "tags": []
   },
   "outputs": [],
   "source": [
    "# https://github.com/teamookla/ookla-open-data/blob/master/tutorials/aggregate_by_county_py.ipynb\n",
    "# Speedtest Jupyter Notebook - demonstration code\n",
    "# Pandas cheatsheet - https://pandas.pydata.org/Pandas_Cheat_Sheet.pdf\n",
    "# https://colab.research.google.com/drivespeedtest/.../geopandas.ipynb\n",
    "%matplotlib inline\n",
    "# !pip install geopandas\n",
    "# !pip install shapely\n",
    "# !pip install rtree\n",
    "# !apt-get install -y libspatialindex-dev\n",
    "from datetime import datetime\n",
    "\n",
    "import geopandas as gp\n",
    "import matplotlib\n",
    "import matplotlib.pyplot as plt\n",
    "import pandas as pd\n",
    "import numpy as np\n",
    "\n",
    "from shapely.geometry import Point\n",
    "# from adjustText import adjust_text - this library not loaded\n",
    "\n",
    "# Requirements.yaml\n",
    "# geopandas==0.13.2\n",
    "# pandas==1.5.3\n",
    "# shapely==2.0.1\n",
    "# matplotlib \n",
    "# numpy \n",
    "# python 3.11.4\n"
   ]
  },
  {
   "cell_type": "code",
   "execution_count": 2,
   "metadata": {
    "tags": []
   },
   "outputs": [
    {
     "name": "stdout",
     "output_type": "stream",
     "text": [
      "Python 3.11.6\n"
     ]
    }
   ],
   "source": [
    "#!pip freeze | grep -i python --version\n",
    "!python --version"
   ]
  },
  {
   "cell_type": "code",
   "execution_count": 48,
   "metadata": {
    "tags": []
   },
   "outputs": [],
   "source": [
    "# Recommended projected CRSs\n",
    "CRS_NZ = \"EPSG:2193\"\n",
    "CRS_AU = \"EPSG:3577\""
   ]
  },
  {
   "cell_type": "code",
   "execution_count": 49,
   "metadata": {
    "tags": []
   },
   "outputs": [],
   "source": [
    "# test load NZ data\n",
    "nz_tiles = gp.read_file(\"speedtest-NZ-Q323.geojson\")"
   ]
  },
  {
   "cell_type": "code",
   "execution_count": 50,
   "metadata": {
    "tags": []
   },
   "outputs": [
    {
     "data": {
      "text/plain": [
       "21113"
      ]
     },
     "execution_count": 50,
     "metadata": {},
     "output_type": "execute_result"
    }
   ],
   "source": [
    "nz_tiles.head()\n",
    "len(nz_tiles)"
   ]
  },
  {
   "cell_type": "code",
   "execution_count": 63,
   "metadata": {
    "tags": []
   },
   "outputs": [
    {
     "data": {
      "text/plain": [
       "<Axes: >"
      ]
     },
     "execution_count": 63,
     "metadata": {},
     "output_type": "execute_result"
    },
    {
     "data": {
      "image/png": "[encoded data removed]",
      "text/plain": [
       "<Figure size 640x480 with 1 Axes>"
      ]
     },
     "metadata": {},
     "output_type": "display_data"
    }
   ],
   "source": [
    "# test plot NZ data\n",
    "nz_tiles.to_crs(CRS_NZ).centroid.plot()"
   ]
  },
  {
   "cell_type": "code",
   "execution_count": 6,
   "metadata": {
    "tags": []
   },
   "outputs": [],
   "source": [
    "#nz_tiles.explore(column = \"avg_d_kbps\", scheme=\"NaturalBreaks\" )\n",
    "\n",
    "#nz_tiles.explore(column = \"avg_d_kbps\", scheme=\"UserDefined\", classification_kwds={'bins':[0, 50000, 100000, 250000]} )\n",
    "# goepandas plot - https://geopandas.org/en/stable/docs/reference/api/geopandas.GeoDataFrame.plot.html\n",
    "# geopandas tutorial user guide - https://geopandas.org/en/stable/docs/user_guide/mapping.html"
   ]
  },
  {
   "cell_type": "code",
   "execution_count": 7,
   "metadata": {
    "tags": []
   },
   "outputs": [],
   "source": [
    "def quarter_start(year: int, q: int) -> datetime:\n",
    "    if not 1 <= q <= 4:\n",
    "        raise ValueError(\"Quarter must be within [1, 2, 3, 4]\")\n",
    "\n",
    "    month = [1, 4, 7, 10]\n",
    "    return datetime(year, month[q - 1], 1)\n",
    "\n",
    "\n",
    "def get_tile_url(service_type: str, year: int, q: int) -> str:\n",
    "    dt = quarter_start(year, q)\n",
    "\n",
    "    base_url = \"https://ookla-open-data.s3-us-west-2.amazonaws.com/shapefiles/performance\"\n",
    "    url = f\"{base_url}/type%3D{service_type}/year%3D{dt:%Y}/quarter%3D{q}/{dt:%Y-%m-%d}_performance_fixed_tiles.zip\"\n",
    "    return url\n",
    "\n",
    "#speedtest import data from aws"
   ]
  },
  {
   "cell_type": "code",
   "execution_count": 8,
   "metadata": {
    "tags": []
   },
   "outputs": [
    {
     "data": {
      "text/plain": [
       "'https://ookla-open-data.s3-us-west-2.amazonaws.com/shapefiles/performance/type%3Dfixed/year%3D2023/quarter%3D4/2023-10-01_performance_fixed_tiles.zip'"
      ]
     },
     "execution_count": 8,
     "metadata": {},
     "output_type": "execute_result"
    }
   ],
   "source": [
    "tile_url = get_tile_url(\"fixed\", 2023, 4)\n",
    "tile_url\n",
    "#let's load Q2, Q3 22 data"
   ]
  },
  {
   "cell_type": "code",
   "execution_count": 9,
   "metadata": {
    "tags": []
   },
   "outputs": [
    {
     "name": "stdout",
     "output_type": "stream",
     "text": [
      "2025-07-17 22:09:55.576660\n"
     ]
    }
   ],
   "source": [
    "print (datetime.now())\n",
    "# tells me how long takes to import data"
   ]
  },
  {
   "cell_type": "code",
   "execution_count": 10,
   "metadata": {
    "tags": []
   },
   "outputs": [],
   "source": [
    "tiles = gp.read_file(tile_url)\n",
    "# load times - 30 mins (Sun pm), 8 mins (Mon am), 12mins (Sun pm), 11mins (Sat pm)\n",
    "# load time -  12 mins (Fri am), 14 mins (Fri am)\n",
    "# load time - 6 mins, (Fri pm),  6 mins (Fri pm) (now at 100Mbps, was 50Mbps)\n",
    "# load time - x mins (Fri pm) (on 100Mbps NBN)\n",
    "# load time - 7 mins (Th pm) (on 1Gbps Monash LAN)\n",
    "# load time - 6 mins (Fri am) on Monash eduroam"
   ]
  },
  {
   "cell_type": "code",
   "execution_count": 11,
   "metadata": {
    "tags": []
   },
   "outputs": [
    {
     "name": "stdout",
     "output_type": "stream",
     "text": [
      "2025-07-17 22:12:22.487157\n"
     ]
    }
   ],
   "source": [
    "print (datetime.now())"
   ]
  },
  {
   "cell_type": "code",
   "execution_count": 12,
   "metadata": {
    "tags": []
   },
   "outputs": [
    {
     "data": {
      "text/plain": [
       "6654855"
      ]
     },
     "execution_count": 12,
     "metadata": {},
     "output_type": "execute_result"
    }
   ],
   "source": [
    "len(tiles)\n",
    "# Q1 21 - 6.3M lines\n",
    "# Q2 21 - 6.7M lines (global)\n",
    "# Q3 21 - 6.9M lines\n",
    "# Q4 21 - 6.7M lines (AU 86115 lines)\n",
    "# Q1 22 - 6.7M lines (AU 88182 lines)\n",
    "# Q2 22 - 6.6M lines (AU 86704 lines)\n",
    "# Q3 22 - 6.609M lines (AU 83458 lines)\n",
    "# Q1 23 - 6.334M lines (AU 89619 lines)\n",
    "# Q2 23 - 6.370M lines (AU 90258 lines)\n",
    "# Q3 23 - 6.67M lines (AU 90249 lines) \n",
    "# Q4 23 - 6.65M lines (AU 91750 lines)\n",
    "\n",
    "# how to save/load\n",
    "#au_tiles.to_file(\"speedtest-AUS-Q221.geojson\", driver='GeoJSON')\n",
    "#working - reloaded successfully\n",
    "# au2_tiles = gp.read_file(\"speedtest.geojson\")"
   ]
  },
  {
   "cell_type": "code",
   "execution_count": 54,
   "metadata": {
    "tags": []
   },
   "outputs": [
    {
     "data": {
      "text/plain": [
       "91750"
      ]
     },
     "execution_count": 54,
     "metadata": {},
     "output_type": "execute_result"
    }
   ],
   "source": [
    "au_tiles = tiles.cx[113.338953:153.569469 ,\t-43.634597:-10.668186]\n",
    "#nz_tiles = tiles.cx[166.509144322:178.517093541 ,\t-46.641235447:-34.4506617165]\n",
    "#LAX = tiles.cx[-118:-120, 33:35]\n",
    "len(au_tiles) \n",
    "#len(nz_tiles)\n",
    "# processing World data to Australia subset by bounding box\n",
    "# source of Bounding Box - World data set\n",
    "# processing time - 5 mins, 9 mins, <1min (M2)"
   ]
  },
  {
   "cell_type": "code",
   "execution_count": 55,
   "metadata": {
    "tags": []
   },
   "outputs": [],
   "source": [
    "au_tiles.to_file(\"speedtest-AUS-Q423.geojson\", driver='GeoJSON')\n",
    "#nz_tiles.to_file(\"speedtest-NZ-Q323.geojson\", driver='GeoJSON')\n",
    "\n",
    "#write to disk\n",
    "# then load to figshare: CC-BY-NC https://doi.org/10.6084/m9.figshare.13370504 (Currently at.v22)"
   ]
  },
  {
   "cell_type": "code",
   "execution_count": 61,
   "metadata": {
    "tags": []
   },
   "outputs": [
    {
     "data": {
      "text/plain": [
       "<Axes: >"
      ]
     },
     "execution_count": 61,
     "metadata": {},
     "output_type": "execute_result"
    },
    {
     "data": {
      "image/png": "[encoded data removed]",
      "text/plain": [
       "<Figure size 640x480 with 1 Axes>"
      ]
     },
     "metadata": {},
     "output_type": "display_data"
    }
   ],
   "source": [
    "au_tiles.to_crs(CRS_AU).centroid.plot()\n",
    "#nz_tiles.centroid.plot()\n",
    "# Visual data inspection\n",
    "# Q222 - looks like some E.Timor data or Coral Sea (New Guinea?)\n",
    "# Q423 - looks like E. Timor and Coral Sea, plus Barrier Reef?"
   ]
  },
  {
   "cell_type": "code",
   "execution_count": 16,
   "metadata": {
    "tags": []
   },
   "outputs": [
    {
     "data": {
      "text/plain": [
       "np.float64(82862.42116621253)"
      ]
     },
     "execution_count": 16,
     "metadata": {},
     "output_type": "execute_result"
    }
   ],
   "source": [
    "au_tiles['avg_d_kbps'].mean()\n",
    "#nz_tiles['avg_d_kbps'].mean()\n",
    "# Q2 21 - 52314\n",
    "# Q3 21 - 54854\n",
    "# Q4 21 - 57645\n",
    "# Q1 22 - 56873\n",
    "# Q2 22 - 58442\n",
    "# Q3 22 - 61658\n",
    "# Q1 23 - 69696\n",
    "# Q2 23 - 74254\n",
    "# Q3 23 - 79082\n",
    "#NZ-Q3 23 - 154335\n"
   ]
  },
  {
   "cell_type": "code",
   "execution_count": 17,
   "metadata": {
    "tags": []
   },
   "outputs": [
    {
     "data": {
      "text/html": [
       "<div>\n",
       "<style scoped>\n",
       "    .dataframe tbody tr th:only-of-type {\n",
       "        vertical-align: middle;\n",
       "    }\n",
       "\n",
       "    .dataframe tbody tr th {\n",
       "        vertical-align: top;\n",
       "    }\n",
       "\n",
       "    .dataframe thead th {\n",
       "        text-align: right;\n",
       "    }\n",
       "</style>\n",
       "<table border=\"1\" class=\"dataframe\">\n",
       "  <thead>\n",
       "    <tr style=\"text-align: right;\">\n",
       "      <th></th>\n",
       "      <th>avg_d_kbps</th>\n",
       "      <th>avg_u_kbps</th>\n",
       "      <th>avg_lat_ms</th>\n",
       "      <th>tests</th>\n",
       "      <th>devices</th>\n",
       "    </tr>\n",
       "  </thead>\n",
       "  <tbody>\n",
       "    <tr>\n",
       "      <th>count</th>\n",
       "      <td>91750.000000</td>\n",
       "      <td>91750.000000</td>\n",
       "      <td>91750.000000</td>\n",
       "      <td>91750.000000</td>\n",
       "      <td>91750.000000</td>\n",
       "    </tr>\n",
       "    <tr>\n",
       "      <th>mean</th>\n",
       "      <td>82862.421166</td>\n",
       "      <td>17868.419902</td>\n",
       "      <td>40.059553</td>\n",
       "      <td>18.005123</td>\n",
       "      <td>5.642005</td>\n",
       "    </tr>\n",
       "    <tr>\n",
       "      <th>std</th>\n",
       "      <td>63190.889435</td>\n",
       "      <td>19269.786572</td>\n",
       "      <td>92.146631</td>\n",
       "      <td>34.261559</td>\n",
       "      <td>9.824661</td>\n",
       "    </tr>\n",
       "    <tr>\n",
       "      <th>min</th>\n",
       "      <td>1.000000</td>\n",
       "      <td>1.000000</td>\n",
       "      <td>0.000000</td>\n",
       "      <td>1.000000</td>\n",
       "      <td>1.000000</td>\n",
       "    </tr>\n",
       "    <tr>\n",
       "      <th>25%</th>\n",
       "      <td>41169.000000</td>\n",
       "      <td>9924.000000</td>\n",
       "      <td>11.000000</td>\n",
       "      <td>2.000000</td>\n",
       "      <td>1.000000</td>\n",
       "    </tr>\n",
       "    <tr>\n",
       "      <th>50%</th>\n",
       "      <td>67555.000000</td>\n",
       "      <td>16297.500000</td>\n",
       "      <td>19.000000</td>\n",
       "      <td>5.000000</td>\n",
       "      <td>2.000000</td>\n",
       "    </tr>\n",
       "    <tr>\n",
       "      <th>75%</th>\n",
       "      <td>108043.500000</td>\n",
       "      <td>20500.000000</td>\n",
       "      <td>38.000000</td>\n",
       "      <td>21.000000</td>\n",
       "      <td>7.000000</td>\n",
       "    </tr>\n",
       "    <tr>\n",
       "      <th>max</th>\n",
       "      <td>937600.000000</td>\n",
       "      <td>599626.000000</td>\n",
       "      <td>2374.000000</td>\n",
       "      <td>1513.000000</td>\n",
       "      <td>545.000000</td>\n",
       "    </tr>\n",
       "  </tbody>\n",
       "</table>\n",
       "</div>"
      ],
      "text/plain": [
       "          avg_d_kbps     avg_u_kbps    avg_lat_ms         tests       devices\n",
       "count   91750.000000   91750.000000  91750.000000  91750.000000  91750.000000\n",
       "mean    82862.421166   17868.419902     40.059553     18.005123      5.642005\n",
       "std     63190.889435   19269.786572     92.146631     34.261559      9.824661\n",
       "min         1.000000       1.000000      0.000000      1.000000      1.000000\n",
       "25%     41169.000000    9924.000000     11.000000      2.000000      1.000000\n",
       "50%     67555.000000   16297.500000     19.000000      5.000000      2.000000\n",
       "75%    108043.500000   20500.000000     38.000000     21.000000      7.000000\n",
       "max    937600.000000  599626.000000   2374.000000   1513.000000    545.000000"
      ]
     },
     "execution_count": 17,
     "metadata": {},
     "output_type": "execute_result"
    }
   ],
   "source": [
    "au_tiles.describe()\n",
    "#nz_tiles.describe()"
   ]
  },
  {
   "cell_type": "code",
   "execution_count": 18,
   "metadata": {
    "tags": []
   },
   "outputs": [
    {
     "data": {
      "text/html": [
       "<div>\n",
       "<style scoped>\n",
       "    .dataframe tbody tr th:only-of-type {\n",
       "        vertical-align: middle;\n",
       "    }\n",
       "\n",
       "    .dataframe tbody tr th {\n",
       "        vertical-align: top;\n",
       "    }\n",
       "\n",
       "    .dataframe thead th {\n",
       "        text-align: right;\n",
       "    }\n",
       "</style>\n",
       "<table border=\"1\" class=\"dataframe\">\n",
       "  <thead>\n",
       "    <tr style=\"text-align: right;\">\n",
       "      <th></th>\n",
       "      <th>quadkey</th>\n",
       "      <th>avg_d_kbps</th>\n",
       "      <th>avg_u_kbps</th>\n",
       "      <th>avg_lat_ms</th>\n",
       "      <th>tests</th>\n",
       "      <th>devices</th>\n",
       "      <th>geometry</th>\n",
       "    </tr>\n",
       "  </thead>\n",
       "  <tbody>\n",
       "    <tr>\n",
       "      <th>6536707</th>\n",
       "      <td>3101033321313311</td>\n",
       "      <td>27255</td>\n",
       "      <td>9674</td>\n",
       "      <td>8</td>\n",
       "      <td>2</td>\n",
       "      <td>2</td>\n",
       "      <td>POLYGON ((123.04138 -10.72538, 123.04688 -10.7...</td>\n",
       "    </tr>\n",
       "    <tr>\n",
       "      <th>6536708</th>\n",
       "      <td>3101033321313333</td>\n",
       "      <td>27045</td>\n",
       "      <td>17770</td>\n",
       "      <td>7</td>\n",
       "      <td>2</td>\n",
       "      <td>1</td>\n",
       "      <td>POLYGON ((123.04138 -10.74157, 123.04688 -10.7...</td>\n",
       "    </tr>\n",
       "    <tr>\n",
       "      <th>6536709</th>\n",
       "      <td>3101033321331111</td>\n",
       "      <td>25660</td>\n",
       "      <td>12530</td>\n",
       "      <td>6</td>\n",
       "      <td>9</td>\n",
       "      <td>2</td>\n",
       "      <td>POLYGON ((123.04138 -10.74697, 123.04688 -10.7...</td>\n",
       "    </tr>\n",
       "    <tr>\n",
       "      <th>6536710</th>\n",
       "      <td>3101033321331122</td>\n",
       "      <td>8733</td>\n",
       "      <td>7402</td>\n",
       "      <td>5</td>\n",
       "      <td>2</td>\n",
       "      <td>1</td>\n",
       "      <td>POLYGON ((123.0249 -10.76316, 123.0304 -10.763...</td>\n",
       "    </tr>\n",
       "    <tr>\n",
       "      <th>6536711</th>\n",
       "      <td>3101033321331123</td>\n",
       "      <td>14525</td>\n",
       "      <td>3910</td>\n",
       "      <td>5</td>\n",
       "      <td>1</td>\n",
       "      <td>1</td>\n",
       "      <td>POLYGON ((123.0304 -10.76316, 123.03589 -10.76...</td>\n",
       "    </tr>\n",
       "    <tr>\n",
       "      <th>...</th>\n",
       "      <td>...</td>\n",
       "      <td>...</td>\n",
       "      <td>...</td>\n",
       "      <td>...</td>\n",
       "      <td>...</td>\n",
       "      <td>...</td>\n",
       "      <td>...</td>\n",
       "    </tr>\n",
       "    <tr>\n",
       "      <th>6646769</th>\n",
       "      <td>3130102100120230</td>\n",
       "      <td>79389</td>\n",
       "      <td>20156</td>\n",
       "      <td>47</td>\n",
       "      <td>1</td>\n",
       "      <td>1</td>\n",
       "      <td>POLYGON ((147.84302 -43.15711, 147.84851 -43.1...</td>\n",
       "    </tr>\n",
       "    <tr>\n",
       "      <th>6646770</th>\n",
       "      <td>3130102100120320</td>\n",
       "      <td>11875</td>\n",
       "      <td>7279</td>\n",
       "      <td>44</td>\n",
       "      <td>1</td>\n",
       "      <td>1</td>\n",
       "      <td>POLYGON ((147.854 -43.15711, 147.8595 -43.1571...</td>\n",
       "    </tr>\n",
       "    <tr>\n",
       "      <th>6646771</th>\n",
       "      <td>3130102100122300</td>\n",
       "      <td>175398</td>\n",
       "      <td>29082</td>\n",
       "      <td>59</td>\n",
       "      <td>1</td>\n",
       "      <td>1</td>\n",
       "      <td>POLYGON ((147.854 -43.18115, 147.8595 -43.1811...</td>\n",
       "    </tr>\n",
       "    <tr>\n",
       "      <th>6646772</th>\n",
       "      <td>3130102100131020</td>\n",
       "      <td>25245</td>\n",
       "      <td>20466</td>\n",
       "      <td>58</td>\n",
       "      <td>6</td>\n",
       "      <td>1</td>\n",
       "      <td>POLYGON ((147.96387 -43.14108, 147.96936 -43.1...</td>\n",
       "    </tr>\n",
       "    <tr>\n",
       "      <th>6646773</th>\n",
       "      <td>3130102100321323</td>\n",
       "      <td>9279</td>\n",
       "      <td>4757</td>\n",
       "      <td>48</td>\n",
       "      <td>1</td>\n",
       "      <td>1</td>\n",
       "      <td>POLYGON ((147.90344 -43.2892, 147.90894 -43.28...</td>\n",
       "    </tr>\n",
       "  </tbody>\n",
       "</table>\n",
       "<p>91750 rows × 7 columns</p>\n",
       "</div>"
      ],
      "text/plain": [
       "                  quadkey  avg_d_kbps  avg_u_kbps  avg_lat_ms  tests  devices  \\\n",
       "6536707  3101033321313311       27255        9674           8      2        2   \n",
       "6536708  3101033321313333       27045       17770           7      2        1   \n",
       "6536709  3101033321331111       25660       12530           6      9        2   \n",
       "6536710  3101033321331122        8733        7402           5      2        1   \n",
       "6536711  3101033321331123       14525        3910           5      1        1   \n",
       "...                   ...         ...         ...         ...    ...      ...   \n",
       "6646769  3130102100120230       79389       20156          47      1        1   \n",
       "6646770  3130102100120320       11875        7279          44      1        1   \n",
       "6646771  3130102100122300      175398       29082          59      1        1   \n",
       "6646772  3130102100131020       25245       20466          58      6        1   \n",
       "6646773  3130102100321323        9279        4757          48      1        1   \n",
       "\n",
       "                                                  geometry  \n",
       "6536707  POLYGON ((123.04138 -10.72538, 123.04688 -10.7...  \n",
       "6536708  POLYGON ((123.04138 -10.74157, 123.04688 -10.7...  \n",
       "6536709  POLYGON ((123.04138 -10.74697, 123.04688 -10.7...  \n",
       "6536710  POLYGON ((123.0249 -10.76316, 123.0304 -10.763...  \n",
       "6536711  POLYGON ((123.0304 -10.76316, 123.03589 -10.76...  \n",
       "...                                                    ...  \n",
       "6646769  POLYGON ((147.84302 -43.15711, 147.84851 -43.1...  \n",
       "6646770  POLYGON ((147.854 -43.15711, 147.8595 -43.1571...  \n",
       "6646771  POLYGON ((147.854 -43.18115, 147.8595 -43.1811...  \n",
       "6646772  POLYGON ((147.96387 -43.14108, 147.96936 -43.1...  \n",
       "6646773  POLYGON ((147.90344 -43.2892, 147.90894 -43.28...  \n",
       "\n",
       "[91750 rows x 7 columns]"
      ]
     },
     "execution_count": 18,
     "metadata": {},
     "output_type": "execute_result"
    }
   ],
   "source": [
    "# to do - post to Figshare DONE.\n",
    "# plot AUS line histogram.\n",
    "au_tiles"
   ]
  },
  {
   "cell_type": "code",
   "execution_count": 64,
   "metadata": {
    "tags": []
   },
   "outputs": [
    {
     "data": {
      "text/plain": [
       "<Axes: >"
      ]
     },
     "execution_count": 64,
     "metadata": {},
     "output_type": "execute_result"
    },
    {
     "data": {
      "image/png": "[encoded data removed]",
      "text/plain": [
       "<Figure size 640x480 with 1 Axes>"
      ]
     },
     "metadata": {},
     "output_type": "display_data"
    }
   ],
   "source": [
    "au_tiles.loc[au_tiles['avg_d_kbps'] > 200000].to_crs(CRS_AU).centroid.plot()"
   ]
  },
  {
   "cell_type": "code",
   "execution_count": 20,
   "metadata": {
    "tags": []
   },
   "outputs": [
    {
     "data": {
      "text/html": [
       "<div>\n",
       "<style scoped>\n",
       "    .dataframe tbody tr th:only-of-type {\n",
       "        vertical-align: middle;\n",
       "    }\n",
       "\n",
       "    .dataframe tbody tr th {\n",
       "        vertical-align: top;\n",
       "    }\n",
       "\n",
       "    .dataframe thead th {\n",
       "        text-align: right;\n",
       "    }\n",
       "</style>\n",
       "<table border=\"1\" class=\"dataframe\">\n",
       "  <thead>\n",
       "    <tr style=\"text-align: right;\">\n",
       "      <th></th>\n",
       "      <th>quadkey</th>\n",
       "      <th>avg_d_kbps</th>\n",
       "      <th>avg_u_kbps</th>\n",
       "      <th>avg_lat_ms</th>\n",
       "      <th>tests</th>\n",
       "      <th>devices</th>\n",
       "      <th>geometry</th>\n",
       "    </tr>\n",
       "  </thead>\n",
       "  <tbody>\n",
       "    <tr>\n",
       "      <th>6538010</th>\n",
       "      <td>3101222333011320</td>\n",
       "      <td>202878</td>\n",
       "      <td>27279</td>\n",
       "      <td>88</td>\n",
       "      <td>5</td>\n",
       "      <td>2</td>\n",
       "      <td>POLYGON ((115.11475 -21.64722, 115.12024 -21.6...</td>\n",
       "    </tr>\n",
       "    <tr>\n",
       "      <th>6538054</th>\n",
       "      <td>3101223200012033</td>\n",
       "      <td>242700</td>\n",
       "      <td>18804</td>\n",
       "      <td>75</td>\n",
       "      <td>1</td>\n",
       "      <td>1</td>\n",
       "      <td>POLYGON ((115.41687 -20.68932, 115.42236 -20.6...</td>\n",
       "    </tr>\n",
       "    <tr>\n",
       "      <th>6538055</th>\n",
       "      <td>3101223200012230</td>\n",
       "      <td>239468</td>\n",
       "      <td>39392</td>\n",
       "      <td>52</td>\n",
       "      <td>1</td>\n",
       "      <td>1</td>\n",
       "      <td>POLYGON ((115.41138 -20.70474, 115.41687 -20.7...</td>\n",
       "    </tr>\n",
       "    <tr>\n",
       "      <th>6538056</th>\n",
       "      <td>3101223200012232</td>\n",
       "      <td>205870</td>\n",
       "      <td>18293</td>\n",
       "      <td>31</td>\n",
       "      <td>1</td>\n",
       "      <td>1</td>\n",
       "      <td>POLYGON ((115.41138 -20.70988, 115.41687 -20.7...</td>\n",
       "    </tr>\n",
       "    <tr>\n",
       "      <th>6538057</th>\n",
       "      <td>3101223200110100</td>\n",
       "      <td>213403</td>\n",
       "      <td>27496</td>\n",
       "      <td>38</td>\n",
       "      <td>1</td>\n",
       "      <td>1</td>\n",
       "      <td>POLYGON ((115.59814 -20.63278, 115.60364 -20.6...</td>\n",
       "    </tr>\n",
       "    <tr>\n",
       "      <th>...</th>\n",
       "      <td>...</td>\n",
       "      <td>...</td>\n",
       "      <td>...</td>\n",
       "      <td>...</td>\n",
       "      <td>...</td>\n",
       "      <td>...</td>\n",
       "      <td>...</td>\n",
       "    </tr>\n",
       "    <tr>\n",
       "      <th>6646693</th>\n",
       "      <td>3130102010232012</td>\n",
       "      <td>200615</td>\n",
       "      <td>18705</td>\n",
       "      <td>50</td>\n",
       "      <td>13</td>\n",
       "      <td>2</td>\n",
       "      <td>POLYGON ((147.052 -43.2972, 147.0575 -43.2972,...</td>\n",
       "    </tr>\n",
       "    <tr>\n",
       "      <th>6646698</th>\n",
       "      <td>3130102010312032</td>\n",
       "      <td>236969</td>\n",
       "      <td>11850</td>\n",
       "      <td>58</td>\n",
       "      <td>10</td>\n",
       "      <td>2</td>\n",
       "      <td>POLYGON ((147.22778 -43.2412, 147.23328 -43.24...</td>\n",
       "    </tr>\n",
       "    <tr>\n",
       "      <th>6646699</th>\n",
       "      <td>3130102010312102</td>\n",
       "      <td>201211</td>\n",
       "      <td>18121</td>\n",
       "      <td>48</td>\n",
       "      <td>2</td>\n",
       "      <td>1</td>\n",
       "      <td>POLYGON ((147.23877 -43.2332, 147.24426 -43.23...</td>\n",
       "    </tr>\n",
       "    <tr>\n",
       "      <th>6646700</th>\n",
       "      <td>3130102010312201</td>\n",
       "      <td>201847</td>\n",
       "      <td>27358</td>\n",
       "      <td>47</td>\n",
       "      <td>1</td>\n",
       "      <td>1</td>\n",
       "      <td>POLYGON ((147.22229 -43.2452, 147.22778 -43.24...</td>\n",
       "    </tr>\n",
       "    <tr>\n",
       "      <th>6646712</th>\n",
       "      <td>3130102010332331</td>\n",
       "      <td>208903</td>\n",
       "      <td>12594</td>\n",
       "      <td>53</td>\n",
       "      <td>2</td>\n",
       "      <td>2</td>\n",
       "      <td>POLYGON ((147.25525 -43.31718, 147.26074 -43.3...</td>\n",
       "    </tr>\n",
       "  </tbody>\n",
       "</table>\n",
       "<p>4521 rows × 7 columns</p>\n",
       "</div>"
      ],
      "text/plain": [
       "                  quadkey  avg_d_kbps  avg_u_kbps  avg_lat_ms  tests  devices  \\\n",
       "6538010  3101222333011320      202878       27279          88      5        2   \n",
       "6538054  3101223200012033      242700       18804          75      1        1   \n",
       "6538055  3101223200012230      239468       39392          52      1        1   \n",
       "6538056  3101223200012232      205870       18293          31      1        1   \n",
       "6538057  3101223200110100      213403       27496          38      1        1   \n",
       "...                   ...         ...         ...         ...    ...      ...   \n",
       "6646693  3130102010232012      200615       18705          50     13        2   \n",
       "6646698  3130102010312032      236969       11850          58     10        2   \n",
       "6646699  3130102010312102      201211       18121          48      2        1   \n",
       "6646700  3130102010312201      201847       27358          47      1        1   \n",
       "6646712  3130102010332331      208903       12594          53      2        2   \n",
       "\n",
       "                                                  geometry  \n",
       "6538010  POLYGON ((115.11475 -21.64722, 115.12024 -21.6...  \n",
       "6538054  POLYGON ((115.41687 -20.68932, 115.42236 -20.6...  \n",
       "6538055  POLYGON ((115.41138 -20.70474, 115.41687 -20.7...  \n",
       "6538056  POLYGON ((115.41138 -20.70988, 115.41687 -20.7...  \n",
       "6538057  POLYGON ((115.59814 -20.63278, 115.60364 -20.6...  \n",
       "...                                                    ...  \n",
       "6646693  POLYGON ((147.052 -43.2972, 147.0575 -43.2972,...  \n",
       "6646698  POLYGON ((147.22778 -43.2412, 147.23328 -43.24...  \n",
       "6646699  POLYGON ((147.23877 -43.2332, 147.24426 -43.23...  \n",
       "6646700  POLYGON ((147.22229 -43.2452, 147.22778 -43.24...  \n",
       "6646712  POLYGON ((147.25525 -43.31718, 147.26074 -43.3...  \n",
       "\n",
       "[4521 rows x 7 columns]"
      ]
     },
     "execution_count": 20,
     "metadata": {},
     "output_type": "execute_result"
    }
   ],
   "source": [
    "au_tiles.loc[au_tiles['avg_d_kbps'] >200000]\n",
    "#Q2 23 - records over 200Mbps - 3514\n",
    "#Q2 23 - records over 200Mbps - 3948 (up 15%)"
   ]
  },
  {
   "cell_type": "code",
   "execution_count": 21,
   "metadata": {
    "tags": []
   },
   "outputs": [
    {
     "data": {
      "text/html": [
       "<div>\n",
       "<style scoped>\n",
       "    .dataframe tbody tr th:only-of-type {\n",
       "        vertical-align: middle;\n",
       "    }\n",
       "\n",
       "    .dataframe tbody tr th {\n",
       "        vertical-align: top;\n",
       "    }\n",
       "\n",
       "    .dataframe thead th {\n",
       "        text-align: right;\n",
       "    }\n",
       "</style>\n",
       "<table border=\"1\" class=\"dataframe\">\n",
       "  <thead>\n",
       "    <tr style=\"text-align: right;\">\n",
       "      <th></th>\n",
       "      <th>quadkey</th>\n",
       "      <th>avg_d_kbps</th>\n",
       "      <th>avg_u_kbps</th>\n",
       "      <th>avg_lat_ms</th>\n",
       "      <th>tests</th>\n",
       "      <th>devices</th>\n",
       "      <th>geometry</th>\n",
       "    </tr>\n",
       "  </thead>\n",
       "  <tbody>\n",
       "    <tr>\n",
       "      <th>6536710</th>\n",
       "      <td>3101033321331122</td>\n",
       "      <td>8733</td>\n",
       "      <td>7402</td>\n",
       "      <td>5</td>\n",
       "      <td>2</td>\n",
       "      <td>1</td>\n",
       "      <td>POLYGON ((123.0249 -10.76316, 123.0304 -10.763...</td>\n",
       "    </tr>\n",
       "    <tr>\n",
       "      <th>6536720</th>\n",
       "      <td>3101033330220023</td>\n",
       "      <td>327</td>\n",
       "      <td>1227</td>\n",
       "      <td>548</td>\n",
       "      <td>2</td>\n",
       "      <td>1</td>\n",
       "      <td>POLYGON ((123.05237 -10.76316, 123.05786 -10.7...</td>\n",
       "    </tr>\n",
       "    <tr>\n",
       "      <th>6537983</th>\n",
       "      <td>3101222322203333</td>\n",
       "      <td>1517</td>\n",
       "      <td>996</td>\n",
       "      <td>86</td>\n",
       "      <td>1</td>\n",
       "      <td>1</td>\n",
       "      <td>POLYGON ((113.98865 -21.8564, 113.99414 -21.85...</td>\n",
       "    </tr>\n",
       "    <tr>\n",
       "      <th>6538000</th>\n",
       "      <td>3101222332123132</td>\n",
       "      <td>7948</td>\n",
       "      <td>2534</td>\n",
       "      <td>73</td>\n",
       "      <td>1</td>\n",
       "      <td>1</td>\n",
       "      <td>POLYGON ((114.86206 -21.7544, 114.86755 -21.75...</td>\n",
       "    </tr>\n",
       "    <tr>\n",
       "      <th>6538001</th>\n",
       "      <td>3101222332123323</td>\n",
       "      <td>4878</td>\n",
       "      <td>8038</td>\n",
       "      <td>53</td>\n",
       "      <td>2</td>\n",
       "      <td>2</td>\n",
       "      <td>POLYGON ((114.85657 -21.7748, 114.86206 -21.77...</td>\n",
       "    </tr>\n",
       "    <tr>\n",
       "      <th>...</th>\n",
       "      <td>...</td>\n",
       "      <td>...</td>\n",
       "      <td>...</td>\n",
       "      <td>...</td>\n",
       "      <td>...</td>\n",
       "      <td>...</td>\n",
       "      <td>...</td>\n",
       "    </tr>\n",
       "    <tr>\n",
       "      <th>6646730</th>\n",
       "      <td>3130102012110232</td>\n",
       "      <td>1900</td>\n",
       "      <td>1544</td>\n",
       "      <td>67</td>\n",
       "      <td>1</td>\n",
       "      <td>1</td>\n",
       "      <td>POLYGON ((147.22778 -43.35314, 147.23328 -43.3...</td>\n",
       "    </tr>\n",
       "    <tr>\n",
       "      <th>6646759</th>\n",
       "      <td>3130102100030010</td>\n",
       "      <td>4450</td>\n",
       "      <td>132</td>\n",
       "      <td>89</td>\n",
       "      <td>5</td>\n",
       "      <td>1</td>\n",
       "      <td>POLYGON ((147.75513 -43.13306, 147.76062 -43.1...</td>\n",
       "    </tr>\n",
       "    <tr>\n",
       "      <th>6646760</th>\n",
       "      <td>3130102100030011</td>\n",
       "      <td>8456</td>\n",
       "      <td>873</td>\n",
       "      <td>35</td>\n",
       "      <td>1</td>\n",
       "      <td>1</td>\n",
       "      <td>POLYGON ((147.76062 -43.13306, 147.76611 -43.1...</td>\n",
       "    </tr>\n",
       "    <tr>\n",
       "      <th>6646767</th>\n",
       "      <td>3130102100120113</td>\n",
       "      <td>1183</td>\n",
       "      <td>812</td>\n",
       "      <td>578</td>\n",
       "      <td>1</td>\n",
       "      <td>1</td>\n",
       "      <td>POLYGON ((147.87048 -43.13707, 147.87598 -43.1...</td>\n",
       "    </tr>\n",
       "    <tr>\n",
       "      <th>6646773</th>\n",
       "      <td>3130102100321323</td>\n",
       "      <td>9279</td>\n",
       "      <td>4757</td>\n",
       "      <td>48</td>\n",
       "      <td>1</td>\n",
       "      <td>1</td>\n",
       "      <td>POLYGON ((147.90344 -43.2892, 147.90894 -43.28...</td>\n",
       "    </tr>\n",
       "  </tbody>\n",
       "</table>\n",
       "<p>3071 rows × 7 columns</p>\n",
       "</div>"
      ],
      "text/plain": [
       "                  quadkey  avg_d_kbps  avg_u_kbps  avg_lat_ms  tests  devices  \\\n",
       "6536710  3101033321331122        8733        7402           5      2        1   \n",
       "6536720  3101033330220023         327        1227         548      2        1   \n",
       "6537983  3101222322203333        1517         996          86      1        1   \n",
       "6538000  3101222332123132        7948        2534          73      1        1   \n",
       "6538001  3101222332123323        4878        8038          53      2        2   \n",
       "...                   ...         ...         ...         ...    ...      ...   \n",
       "6646730  3130102012110232        1900        1544          67      1        1   \n",
       "6646759  3130102100030010        4450         132          89      5        1   \n",
       "6646760  3130102100030011        8456         873          35      1        1   \n",
       "6646767  3130102100120113        1183         812         578      1        1   \n",
       "6646773  3130102100321323        9279        4757          48      1        1   \n",
       "\n",
       "                                                  geometry  \n",
       "6536710  POLYGON ((123.0249 -10.76316, 123.0304 -10.763...  \n",
       "6536720  POLYGON ((123.05237 -10.76316, 123.05786 -10.7...  \n",
       "6537983  POLYGON ((113.98865 -21.8564, 113.99414 -21.85...  \n",
       "6538000  POLYGON ((114.86206 -21.7544, 114.86755 -21.75...  \n",
       "6538001  POLYGON ((114.85657 -21.7748, 114.86206 -21.77...  \n",
       "...                                                    ...  \n",
       "6646730  POLYGON ((147.22778 -43.35314, 147.23328 -43.3...  \n",
       "6646759  POLYGON ((147.75513 -43.13306, 147.76062 -43.1...  \n",
       "6646760  POLYGON ((147.76062 -43.13306, 147.76611 -43.1...  \n",
       "6646767  POLYGON ((147.87048 -43.13707, 147.87598 -43.1...  \n",
       "6646773  POLYGON ((147.90344 -43.2892, 147.90894 -43.28...  \n",
       "\n",
       "[3071 rows x 7 columns]"
      ]
     },
     "execution_count": 21,
     "metadata": {},
     "output_type": "execute_result"
    }
   ],
   "source": [
    "au_tiles.loc[au_tiles['avg_d_kbps'] <10000]\n",
    "#Q2 23 - records less 10Mbps - 3144\n",
    "#Q2 23 - records less 10Mbps - 2896 (down 8%)"
   ]
  },
  {
   "cell_type": "code",
   "execution_count": 65,
   "metadata": {
    "tags": []
   },
   "outputs": [
    {
     "data": {
      "text/plain": [
       "<Axes: >"
      ]
     },
     "execution_count": 65,
     "metadata": {},
     "output_type": "execute_result"
    },
    {
     "data": {
      "image/png": "[encoded data removed]",
      "text/plain": [
       "<Figure size 640x480 with 1 Axes>"
      ]
     },
     "metadata": {},
     "output_type": "display_data"
    }
   ],
   "source": [
    "au_tiles.loc[au_tiles['avg_d_kbps'] <10000].to_crs(CRS_AU).centroid.plot()"
   ]
  },
  {
   "cell_type": "code",
   "execution_count": 23,
   "metadata": {
    "tags": []
   },
   "outputs": [
    {
     "data": {
      "text/plain": [
       "array([[<Axes: title={'center': 'avg_d_kbps'}>]], dtype=object)"
      ]
     },
     "execution_count": 23,
     "metadata": {},
     "output_type": "execute_result"
    },
    {
     "data": {
      "image/png": "[encoded data removed]",
      "text/plain": [
       "<Figure size 640x480 with 1 Axes>"
      ]
     },
     "metadata": {},
     "output_type": "display_data"
    }
   ],
   "source": [
    "#df.hist(column='session_duration_seconds', bins=25, bins=[0,.5,.75,1]))\n",
    "au_tiles.hist(column='avg_d_kbps', bins=[0,20000, 50000, 100000, 150000, 200000, 300000, 500000])"
   ]
  },
  {
   "cell_type": "code",
   "execution_count": null,
   "metadata": {},
   "outputs": [],
   "source": []
  },
  {
   "cell_type": "code",
   "execution_count": null,
   "metadata": {},
   "outputs": [],
   "source": []
  }
 ],
 "metadata": {
  "kernelspec": {
   "display_name": "Python 3 (ipykernel)",
   "language": "python",
   "name": "python3"
  },
  "language_info": {
   "codemirror_mode": {
    "name": "ipython",
    "version": 3
   },
   "file_extension": ".py",
   "mimetype": "text/x-python",
   "name": "python",
   "nbconvert_exporter": "python",
   "pygments_lexer": "ipython3",
   "version": "3.11.6"
  }
 },
 "nbformat": 4,
 "nbformat_minor": 4
}
