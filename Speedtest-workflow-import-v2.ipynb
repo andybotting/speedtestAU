{
 "cells": [
  {
   "cell_type": "markdown",
   "metadata": {},
   "source": [
    "## Speedtest import workflow\n",
    "### Follow steps to import global data, extract AUS, check unique (line count) and save locally and figshare\n",
    "Created: Richard Ferrers, 18/11/22 CC_BY"
   ]
  },
  {
   "cell_type": "code",
   "execution_count": 1,
   "metadata": {},
   "outputs": [
    {
     "name": "stderr",
     "output_type": "stream",
     "text": [
      "/Users/rf/anaconda3/lib/python3.7/site-packages/geopandas/_compat.py:115: UserWarning: The Shapely GEOS version (3.8.0-CAPI-1.13.1 ) is incompatible with the GEOS version PyGEOS was compiled with (3.10.3-CAPI-1.16.1). Conversions between both will be slow.\n",
      "  shapely_geos_version, geos_capi_version_string\n"
     ]
    }
   ],
   "source": [
    "# https://github.com/teamookla/ookla-open-data/blob/master/tutorials/aggregate_by_county_py.ipynb\n",
    "# Speedtest Jupyter Notebook - demonstration code\n",
    "# Pandas cheatsheet - https://pandas.pydata.org/Pandas_Cheat_Sheet.pdf\n",
    "# https://colab.research.google.com/drivespeedtest/.../geopandas.ipynb\n",
    "%matplotlib inline\n",
    "# !pip install geopandas\n",
    "# !pip install shapely\n",
    "# !pip install rtree\n",
    "# !apt-get install -y libspatialindex-dev\n",
    "from datetime import datetime\n",
    "\n",
    "import geopandas as gp\n",
    "import matplotlib\n",
    "import matplotlib.pyplot as plt\n",
    "import pandas as pd\n",
    "import numpy as np\n",
    "\n",
    "from shapely.geometry import Point\n",
    "# from adjustText import adjust_text - this library not loaded"
   ]
  },
  {
   "cell_type": "code",
   "execution_count": 2,
   "metadata": {},
   "outputs": [],
   "source": [
    "def quarter_start(year: int, q: int) -> datetime:\n",
    "    if not 1 <= q <= 4:\n",
    "        raise ValueError(\"Quarter must be within [1, 2, 3, 4]\")\n",
    "\n",
    "    month = [1, 4, 7, 10]\n",
    "    return datetime(year, month[q - 1], 1)\n",
    "\n",
    "\n",
    "def get_tile_url(service_type: str, year: int, q: int) -> str:\n",
    "    dt = quarter_start(year, q)\n",
    "\n",
    "    base_url = \"https://ookla-open-data.s3-us-west-2.amazonaws.com/shapefiles/performance\"\n",
    "    url = f\"{base_url}/type%3D{service_type}/year%3D{dt:%Y}/quarter%3D{q}/{dt:%Y-%m-%d}_performance_fixed_tiles.zip\"\n",
    "    return url\n",
    "\n",
    "#speedtest import data from aws"
   ]
  },
  {
   "cell_type": "code",
   "execution_count": 13,
   "metadata": {},
   "outputs": [
    {
     "data": {
      "text/plain": [
       "'https://ookla-open-data.s3-us-west-2.amazonaws.com/shapefiles/performance/type%3Dfixed/year%3D2023/quarter%3D2/2023-04-01_performance_fixed_tiles.zip'"
      ]
     },
     "execution_count": 13,
     "metadata": {},
     "output_type": "execute_result"
    }
   ],
   "source": [
    "tile_url = get_tile_url(\"fixed\", 2023, 2)\n",
    "tile_url\n",
    "#let's load Q2, Q3 22 data"
   ]
  },
  {
   "cell_type": "code",
   "execution_count": 14,
   "metadata": {},
   "outputs": [
    {
     "name": "stdout",
     "output_type": "stream",
     "text": [
      "2023-08-11 16:45:45.585809\n"
     ]
    }
   ],
   "source": [
    "print (datetime.now())\n",
    "# tells me how long takes to import data"
   ]
  },
  {
   "cell_type": "code",
   "execution_count": 15,
   "metadata": {},
   "outputs": [],
   "source": [
    "tiles = gp.read_file(tile_url)\n",
    "# load times - 30 mins (Sun pm), 8 mins (Mon am), 12mins (Sun pm), 11mins (Sat pm)\n",
    "# load time -  12 mins (Fri am), 14 mins (Fri am)\n",
    "# load time - 6 mins, (Fri pm),  6 mins (Fri pm) (now at 100Mbps, was 50Mbps)\n",
    "# load time - x mins (Fri pm) (on 100Mbps NBN)"
   ]
  },
  {
   "cell_type": "code",
   "execution_count": 16,
   "metadata": {},
   "outputs": [
    {
     "name": "stdout",
     "output_type": "stream",
     "text": [
      "2023-08-11 16:54:00.158059\n"
     ]
    }
   ],
   "source": [
    "print (datetime.now())"
   ]
  },
  {
   "cell_type": "code",
   "execution_count": 18,
   "metadata": {},
   "outputs": [
    {
     "data": {
      "text/plain": [
       "6370328"
      ]
     },
     "execution_count": 18,
     "metadata": {},
     "output_type": "execute_result"
    }
   ],
   "source": [
    "len(tiles)\n",
    "# Q1 21 - 6.3M lines\n",
    "# Q2 21 - 6.7M lines (global)\n",
    "# Q3 21 - 6.9M lines\n",
    "# Q4 21 - 6.7M lines (AU 86115 lines)\n",
    "# Q1 22 - 6.7M lines (AU 88182 lines)\n",
    "# Q2 22 - 6.6M lines (AU 86704 lines)\n",
    "# Q3 22 - 6.609M lines (AU 83458 lines)\n",
    "# Q1 23 - 6.334M lines (AU 89619 lines)\n",
    "# Q2 23 - 6.370M lines (AU 90258 lines)\n",
    "\n",
    "# how to save/load\n",
    "#au_tiles.to_file(\"speedtest-AUS-Q221.geojson\", driver='GeoJSON')\n",
    "#working - reloaded successfully\n",
    "# au2_tiles = gp.read_file(\"speedtest.geojson\")"
   ]
  },
  {
   "cell_type": "code",
   "execution_count": 19,
   "metadata": {},
   "outputs": [
    {
     "data": {
      "text/plain": [
       "90258"
      ]
     },
     "execution_count": 19,
     "metadata": {},
     "output_type": "execute_result"
    }
   ],
   "source": [
    "au_tiles = tiles.cx[113.338953:153.569469 ,\t-43.634597:-10.668186]\n",
    "#LAX = tiles.cx[-118:-120, 33:35]\n",
    "len(au_tiles)\n",
    "# processing World data to Australia subset by bounding box\n",
    "# source of Bounding Box - World data set\n",
    "# processing time - 5 mins, 9 mins"
   ]
  },
  {
   "cell_type": "code",
   "execution_count": 21,
   "metadata": {},
   "outputs": [],
   "source": [
    "au_tiles.to_file(\"speedtest-AUS-Q223.geojson\", driver='GeoJSON')\n",
    "\n",
    "#write to disk\n",
    "# then load to figshare: CC-BY-NC https://doi.org/10.6084/m9.figshare.13370504 (Currently at.v22)"
   ]
  },
  {
   "cell_type": "code",
   "execution_count": 24,
   "metadata": {},
   "outputs": [
    {
     "name": "stderr",
     "output_type": "stream",
     "text": [
      "/Users/rf/anaconda3/lib/python3.7/site-packages/ipykernel_launcher.py:1: UserWarning: Geometry is in a geographic CRS. Results from 'centroid' are likely incorrect. Use 'GeoSeries.to_crs()' to re-project geometries to a projected CRS before this operation.\n",
      "\n",
      "  \"\"\"Entry point for launching an IPython kernel.\n"
     ]
    },
    {
     "data": {
      "text/plain": [
       "<matplotlib.axes._subplots.AxesSubplot at 0x7f85c2014438>"
      ]
     },
     "execution_count": 24,
     "metadata": {},
     "output_type": "execute_result"
    },
    {
     "data": {
      "image/png": "[encoded data removed]",
      "text/plain": [
       "<Figure size 432x288 with 1 Axes>"
      ]
     },
     "metadata": {
      "needs_background": "light"
     },
     "output_type": "display_data"
    }
   ],
   "source": [
    "au_tiles.centroid.plot()\n",
    "# Visual data inspection\n",
    "# Q222 - looks like some E.Timor data or Coral Sea (New Guinea?)"
   ]
  },
  {
   "cell_type": "code",
   "execution_count": 22,
   "metadata": {},
   "outputs": [
    {
     "data": {
      "text/plain": [
       "74254.03398036739"
      ]
     },
     "execution_count": 22,
     "metadata": {},
     "output_type": "execute_result"
    }
   ],
   "source": [
    "au_tiles['avg_d_kbps'].mean()\n",
    "# Q2 21 - 52314\n",
    "# Q3 21 - 54854\n",
    "# Q4 21 - 57645\n",
    "# Q1 22 - 56873\n",
    "# Q2 22 - 58442\n",
    "# Q3 22 - 61658\n",
    "# Q1 23 - 69696\n",
    "# Q2 23 - 74254\n"
   ]
  },
  {
   "cell_type": "code",
   "execution_count": 23,
   "metadata": {},
   "outputs": [
    {
     "data": {
      "text/html": [
       "<div>\n",
       "<style scoped>\n",
       "    .dataframe tbody tr th:only-of-type {\n",
       "        vertical-align: middle;\n",
       "    }\n",
       "\n",
       "    .dataframe tbody tr th {\n",
       "        vertical-align: top;\n",
       "    }\n",
       "\n",
       "    .dataframe thead th {\n",
       "        text-align: right;\n",
       "    }\n",
       "</style>\n",
       "<table border=\"1\" class=\"dataframe\">\n",
       "  <thead>\n",
       "    <tr style=\"text-align: right;\">\n",
       "      <th></th>\n",
       "      <th>avg_d_kbps</th>\n",
       "      <th>avg_u_kbps</th>\n",
       "      <th>avg_lat_ms</th>\n",
       "      <th>tests</th>\n",
       "      <th>devices</th>\n",
       "    </tr>\n",
       "  </thead>\n",
       "  <tbody>\n",
       "    <tr>\n",
       "      <th>count</th>\n",
       "      <td>90258.000000</td>\n",
       "      <td>90258.000000</td>\n",
       "      <td>90258.000000</td>\n",
       "      <td>90258.000000</td>\n",
       "      <td>90258.000000</td>\n",
       "    </tr>\n",
       "    <tr>\n",
       "      <th>mean</th>\n",
       "      <td>74254.033980</td>\n",
       "      <td>16100.573578</td>\n",
       "      <td>42.373053</td>\n",
       "      <td>15.718186</td>\n",
       "      <td>5.093399</td>\n",
       "    </tr>\n",
       "    <tr>\n",
       "      <th>std</th>\n",
       "      <td>57376.216631</td>\n",
       "      <td>17932.383594</td>\n",
       "      <td>96.417119</td>\n",
       "      <td>29.980078</td>\n",
       "      <td>8.417156</td>\n",
       "    </tr>\n",
       "    <tr>\n",
       "      <th>min</th>\n",
       "      <td>4.000000</td>\n",
       "      <td>2.000000</td>\n",
       "      <td>0.000000</td>\n",
       "      <td>1.000000</td>\n",
       "      <td>1.000000</td>\n",
       "    </tr>\n",
       "    <tr>\n",
       "      <th>25%</th>\n",
       "      <td>38271.250000</td>\n",
       "      <td>8737.000000</td>\n",
       "      <td>11.000000</td>\n",
       "      <td>2.000000</td>\n",
       "      <td>1.000000</td>\n",
       "    </tr>\n",
       "    <tr>\n",
       "      <th>50%</th>\n",
       "      <td>58841.000000</td>\n",
       "      <td>14731.000000</td>\n",
       "      <td>19.000000</td>\n",
       "      <td>5.000000</td>\n",
       "      <td>2.000000</td>\n",
       "    </tr>\n",
       "    <tr>\n",
       "      <th>75%</th>\n",
       "      <td>94449.250000</td>\n",
       "      <td>18709.000000</td>\n",
       "      <td>40.000000</td>\n",
       "      <td>18.000000</td>\n",
       "      <td>6.000000</td>\n",
       "    </tr>\n",
       "    <tr>\n",
       "      <th>max</th>\n",
       "      <td>902732.000000</td>\n",
       "      <td>790360.000000</td>\n",
       "      <td>2523.000000</td>\n",
       "      <td>1140.000000</td>\n",
       "      <td>488.000000</td>\n",
       "    </tr>\n",
       "  </tbody>\n",
       "</table>\n",
       "</div>"
      ],
      "text/plain": [
       "          avg_d_kbps     avg_u_kbps    avg_lat_ms         tests       devices\n",
       "count   90258.000000   90258.000000  90258.000000  90258.000000  90258.000000\n",
       "mean    74254.033980   16100.573578     42.373053     15.718186      5.093399\n",
       "std     57376.216631   17932.383594     96.417119     29.980078      8.417156\n",
       "min         4.000000       2.000000      0.000000      1.000000      1.000000\n",
       "25%     38271.250000    8737.000000     11.000000      2.000000      1.000000\n",
       "50%     58841.000000   14731.000000     19.000000      5.000000      2.000000\n",
       "75%     94449.250000   18709.000000     40.000000     18.000000      6.000000\n",
       "max    902732.000000  790360.000000   2523.000000   1140.000000    488.000000"
      ]
     },
     "execution_count": 23,
     "metadata": {},
     "output_type": "execute_result"
    }
   ],
   "source": [
    "au_tiles.describe()"
   ]
  },
  {
   "cell_type": "code",
   "execution_count": 25,
   "metadata": {},
   "outputs": [
    {
     "data": {
      "text/html": [
       "<div>\n",
       "<style scoped>\n",
       "    .dataframe tbody tr th:only-of-type {\n",
       "        vertical-align: middle;\n",
       "    }\n",
       "\n",
       "    .dataframe tbody tr th {\n",
       "        vertical-align: top;\n",
       "    }\n",
       "\n",
       "    .dataframe thead th {\n",
       "        text-align: right;\n",
       "    }\n",
       "</style>\n",
       "<table border=\"1\" class=\"dataframe\">\n",
       "  <thead>\n",
       "    <tr style=\"text-align: right;\">\n",
       "      <th></th>\n",
       "      <th>quadkey</th>\n",
       "      <th>avg_d_kbps</th>\n",
       "      <th>avg_u_kbps</th>\n",
       "      <th>avg_lat_ms</th>\n",
       "      <th>tests</th>\n",
       "      <th>devices</th>\n",
       "      <th>geometry</th>\n",
       "    </tr>\n",
       "  </thead>\n",
       "  <tbody>\n",
       "    <tr>\n",
       "      <th>6254050</th>\n",
       "      <td>3101033321331111</td>\n",
       "      <td>13512</td>\n",
       "      <td>14259</td>\n",
       "      <td>8</td>\n",
       "      <td>12</td>\n",
       "      <td>2</td>\n",
       "      <td>POLYGON ((123.04138 -10.74697, 123.04688 -10.7...</td>\n",
       "    </tr>\n",
       "    <tr>\n",
       "      <th>6254051</th>\n",
       "      <td>3101033321331112</td>\n",
       "      <td>6062</td>\n",
       "      <td>7043</td>\n",
       "      <td>6</td>\n",
       "      <td>1</td>\n",
       "      <td>1</td>\n",
       "      <td>POLYGON ((123.03589 -10.75237, 123.04138 -10.7...</td>\n",
       "    </tr>\n",
       "    <tr>\n",
       "      <th>6254052</th>\n",
       "      <td>3101033321331122</td>\n",
       "      <td>20344</td>\n",
       "      <td>19220</td>\n",
       "      <td>5</td>\n",
       "      <td>2</td>\n",
       "      <td>1</td>\n",
       "      <td>POLYGON ((123.02490 -10.76316, 123.03040 -10.7...</td>\n",
       "    </tr>\n",
       "    <tr>\n",
       "      <th>6254053</th>\n",
       "      <td>3101033321331132</td>\n",
       "      <td>25170</td>\n",
       "      <td>9324</td>\n",
       "      <td>5</td>\n",
       "      <td>5</td>\n",
       "      <td>3</td>\n",
       "      <td>POLYGON ((123.03589 -10.76316, 123.04138 -10.7...</td>\n",
       "    </tr>\n",
       "    <tr>\n",
       "      <th>6254054</th>\n",
       "      <td>3101033321331312</td>\n",
       "      <td>14493</td>\n",
       "      <td>7548</td>\n",
       "      <td>5</td>\n",
       "      <td>2</td>\n",
       "      <td>1</td>\n",
       "      <td>POLYGON ((123.03589 -10.77395, 123.04138 -10.7...</td>\n",
       "    </tr>\n",
       "    <tr>\n",
       "      <th>...</th>\n",
       "      <td>...</td>\n",
       "      <td>...</td>\n",
       "      <td>...</td>\n",
       "      <td>...</td>\n",
       "      <td>...</td>\n",
       "      <td>...</td>\n",
       "      <td>...</td>\n",
       "    </tr>\n",
       "    <tr>\n",
       "      <th>6362338</th>\n",
       "      <td>3130102100120212</td>\n",
       "      <td>24301</td>\n",
       "      <td>2991</td>\n",
       "      <td>48</td>\n",
       "      <td>1</td>\n",
       "      <td>1</td>\n",
       "      <td>POLYGON ((147.84302 -43.15310, 147.84851 -43.1...</td>\n",
       "    </tr>\n",
       "    <tr>\n",
       "      <th>6362339</th>\n",
       "      <td>3130102100120222</td>\n",
       "      <td>16595</td>\n",
       "      <td>8938</td>\n",
       "      <td>49</td>\n",
       "      <td>1</td>\n",
       "      <td>1</td>\n",
       "      <td>POLYGON ((147.83203 -43.16112, 147.83752 -43.1...</td>\n",
       "    </tr>\n",
       "    <tr>\n",
       "      <th>6362340</th>\n",
       "      <td>3130102100120233</td>\n",
       "      <td>79077</td>\n",
       "      <td>9136</td>\n",
       "      <td>36</td>\n",
       "      <td>1</td>\n",
       "      <td>1</td>\n",
       "      <td>POLYGON ((147.84851 -43.16112, 147.85400 -43.1...</td>\n",
       "    </tr>\n",
       "    <tr>\n",
       "      <th>6362341</th>\n",
       "      <td>3130102100120320</td>\n",
       "      <td>23235</td>\n",
       "      <td>7123</td>\n",
       "      <td>64</td>\n",
       "      <td>11</td>\n",
       "      <td>2</td>\n",
       "      <td>POLYGON ((147.85400 -43.15711, 147.85950 -43.1...</td>\n",
       "    </tr>\n",
       "    <tr>\n",
       "      <th>6362342</th>\n",
       "      <td>3130102100131020</td>\n",
       "      <td>181294</td>\n",
       "      <td>23878</td>\n",
       "      <td>145</td>\n",
       "      <td>1</td>\n",
       "      <td>1</td>\n",
       "      <td>POLYGON ((147.96387 -43.14108, 147.96936 -43.1...</td>\n",
       "    </tr>\n",
       "  </tbody>\n",
       "</table>\n",
       "<p>90258 rows × 7 columns</p>\n",
       "</div>"
      ],
      "text/plain": [
       "                  quadkey  avg_d_kbps  avg_u_kbps  avg_lat_ms  tests  devices  \\\n",
       "6254050  3101033321331111       13512       14259           8     12        2   \n",
       "6254051  3101033321331112        6062        7043           6      1        1   \n",
       "6254052  3101033321331122       20344       19220           5      2        1   \n",
       "6254053  3101033321331132       25170        9324           5      5        3   \n",
       "6254054  3101033321331312       14493        7548           5      2        1   \n",
       "...                   ...         ...         ...         ...    ...      ...   \n",
       "6362338  3130102100120212       24301        2991          48      1        1   \n",
       "6362339  3130102100120222       16595        8938          49      1        1   \n",
       "6362340  3130102100120233       79077        9136          36      1        1   \n",
       "6362341  3130102100120320       23235        7123          64     11        2   \n",
       "6362342  3130102100131020      181294       23878         145      1        1   \n",
       "\n",
       "                                                  geometry  \n",
       "6254050  POLYGON ((123.04138 -10.74697, 123.04688 -10.7...  \n",
       "6254051  POLYGON ((123.03589 -10.75237, 123.04138 -10.7...  \n",
       "6254052  POLYGON ((123.02490 -10.76316, 123.03040 -10.7...  \n",
       "6254053  POLYGON ((123.03589 -10.76316, 123.04138 -10.7...  \n",
       "6254054  POLYGON ((123.03589 -10.77395, 123.04138 -10.7...  \n",
       "...                                                    ...  \n",
       "6362338  POLYGON ((147.84302 -43.15310, 147.84851 -43.1...  \n",
       "6362339  POLYGON ((147.83203 -43.16112, 147.83752 -43.1...  \n",
       "6362340  POLYGON ((147.84851 -43.16112, 147.85400 -43.1...  \n",
       "6362341  POLYGON ((147.85400 -43.15711, 147.85950 -43.1...  \n",
       "6362342  POLYGON ((147.96387 -43.14108, 147.96936 -43.1...  \n",
       "\n",
       "[90258 rows x 7 columns]"
      ]
     },
     "execution_count": 25,
     "metadata": {},
     "output_type": "execute_result"
    }
   ],
   "source": [
    "# to do - post to Figshare DONE.\n",
    "# plot AUS line histogram.\n",
    "au_tiles"
   ]
  },
  {
   "cell_type": "code",
   "execution_count": 32,
   "metadata": {},
   "outputs": [
    {
     "name": "stderr",
     "output_type": "stream",
     "text": [
      "/Users/rf/anaconda3/lib/python3.7/site-packages/ipykernel_launcher.py:1: UserWarning: Geometry is in a geographic CRS. Results from 'centroid' are likely incorrect. Use 'GeoSeries.to_crs()' to re-project geometries to a projected CRS before this operation.\n",
      "\n",
      "  \"\"\"Entry point for launching an IPython kernel.\n"
     ]
    },
    {
     "data": {
      "text/plain": [
       "<matplotlib.axes._subplots.AxesSubplot at 0x7f849ad779b0>"
      ]
     },
     "execution_count": 32,
     "metadata": {},
     "output_type": "execute_result"
    },
    {
     "data": {
      "image/png": "[encoded data removed]",
      "text/plain": [
       "<Figure size 432x288 with 1 Axes>"
      ]
     },
     "metadata": {
      "needs_background": "light"
     },
     "output_type": "display_data"
    }
   ],
   "source": [
    "au_tiles.loc[au_tiles['avg_d_kbps'] > 200000].centroid.plot()"
   ]
  },
  {
   "cell_type": "code",
   "execution_count": 35,
   "metadata": {},
   "outputs": [
    {
     "data": {
      "text/html": [
       "<div>\n",
       "<style scoped>\n",
       "    .dataframe tbody tr th:only-of-type {\n",
       "        vertical-align: middle;\n",
       "    }\n",
       "\n",
       "    .dataframe tbody tr th {\n",
       "        vertical-align: top;\n",
       "    }\n",
       "\n",
       "    .dataframe thead th {\n",
       "        text-align: right;\n",
       "    }\n",
       "</style>\n",
       "<table border=\"1\" class=\"dataframe\">\n",
       "  <thead>\n",
       "    <tr style=\"text-align: right;\">\n",
       "      <th></th>\n",
       "      <th>quadkey</th>\n",
       "      <th>avg_d_kbps</th>\n",
       "      <th>avg_u_kbps</th>\n",
       "      <th>avg_lat_ms</th>\n",
       "      <th>tests</th>\n",
       "      <th>devices</th>\n",
       "      <th>geometry</th>\n",
       "    </tr>\n",
       "  </thead>\n",
       "  <tbody>\n",
       "    <tr>\n",
       "      <th>6255230</th>\n",
       "      <td>3101213331133322</td>\n",
       "      <td>220223</td>\n",
       "      <td>3915</td>\n",
       "      <td>593</td>\n",
       "      <td>1</td>\n",
       "      <td>1</td>\n",
       "      <td>POLYGON ((123.72803 -16.12499, 123.73352 -16.1...</td>\n",
       "    </tr>\n",
       "    <tr>\n",
       "      <th>6255231</th>\n",
       "      <td>3101213331133323</td>\n",
       "      <td>237772</td>\n",
       "      <td>43841</td>\n",
       "      <td>117</td>\n",
       "      <td>2</td>\n",
       "      <td>1</td>\n",
       "      <td>POLYGON ((123.73352 -16.12499, 123.73901 -16.1...</td>\n",
       "    </tr>\n",
       "    <tr>\n",
       "      <th>6255236</th>\n",
       "      <td>3101222322221303</td>\n",
       "      <td>217762</td>\n",
       "      <td>3911</td>\n",
       "      <td>159</td>\n",
       "      <td>2</td>\n",
       "      <td>2</td>\n",
       "      <td>POLYGON ((113.97766 -21.88699, 113.98315 -21.8...</td>\n",
       "    </tr>\n",
       "    <tr>\n",
       "      <th>6255237</th>\n",
       "      <td>3101222322221310</td>\n",
       "      <td>253513</td>\n",
       "      <td>25878</td>\n",
       "      <td>29</td>\n",
       "      <td>1</td>\n",
       "      <td>1</td>\n",
       "      <td>POLYGON ((113.98315 -21.88189, 113.98865 -21.8...</td>\n",
       "    </tr>\n",
       "    <tr>\n",
       "      <th>6255268</th>\n",
       "      <td>3101222333020112</td>\n",
       "      <td>228146</td>\n",
       "      <td>26913</td>\n",
       "      <td>35</td>\n",
       "      <td>5</td>\n",
       "      <td>1</td>\n",
       "      <td>POLYGON ((114.99390 -21.70337, 114.99939 -21.7...</td>\n",
       "    </tr>\n",
       "    <tr>\n",
       "      <th>...</th>\n",
       "      <td>...</td>\n",
       "      <td>...</td>\n",
       "      <td>...</td>\n",
       "      <td>...</td>\n",
       "      <td>...</td>\n",
       "      <td>...</td>\n",
       "      <td>...</td>\n",
       "    </tr>\n",
       "    <tr>\n",
       "      <th>6362277</th>\n",
       "      <td>3130102010332301</td>\n",
       "      <td>281458</td>\n",
       "      <td>12603</td>\n",
       "      <td>53</td>\n",
       "      <td>2</td>\n",
       "      <td>1</td>\n",
       "      <td>POLYGON ((147.24426 -43.30919, 147.24976 -43.3...</td>\n",
       "    </tr>\n",
       "    <tr>\n",
       "      <th>6362282</th>\n",
       "      <td>3130102011002321</td>\n",
       "      <td>237724</td>\n",
       "      <td>8649</td>\n",
       "      <td>48</td>\n",
       "      <td>2</td>\n",
       "      <td>1</td>\n",
       "      <td>POLYGON ((147.33215 -43.12504, 147.33765 -43.1...</td>\n",
       "    </tr>\n",
       "    <tr>\n",
       "      <th>6362283</th>\n",
       "      <td>3130102011201112</td>\n",
       "      <td>220452</td>\n",
       "      <td>13642</td>\n",
       "      <td>54</td>\n",
       "      <td>1</td>\n",
       "      <td>1</td>\n",
       "      <td>POLYGON ((147.38159 -43.20117, 147.38708 -43.2...</td>\n",
       "    </tr>\n",
       "    <tr>\n",
       "      <th>6362286</th>\n",
       "      <td>3130102011220002</td>\n",
       "      <td>227900</td>\n",
       "      <td>16575</td>\n",
       "      <td>52</td>\n",
       "      <td>1</td>\n",
       "      <td>1</td>\n",
       "      <td>POLYGON ((147.30469 -43.26521, 147.31018 -43.2...</td>\n",
       "    </tr>\n",
       "    <tr>\n",
       "      <th>6362320</th>\n",
       "      <td>3130102100000302</td>\n",
       "      <td>261380</td>\n",
       "      <td>11566</td>\n",
       "      <td>59</td>\n",
       "      <td>2</td>\n",
       "      <td>2</td>\n",
       "      <td>POLYGON ((147.67822 -43.08895, 147.68372 -43.0...</td>\n",
       "    </tr>\n",
       "  </tbody>\n",
       "</table>\n",
       "<p>3514 rows × 7 columns</p>\n",
       "</div>"
      ],
      "text/plain": [
       "                  quadkey  avg_d_kbps  avg_u_kbps  avg_lat_ms  tests  devices  \\\n",
       "6255230  3101213331133322      220223        3915         593      1        1   \n",
       "6255231  3101213331133323      237772       43841         117      2        1   \n",
       "6255236  3101222322221303      217762        3911         159      2        2   \n",
       "6255237  3101222322221310      253513       25878          29      1        1   \n",
       "6255268  3101222333020112      228146       26913          35      5        1   \n",
       "...                   ...         ...         ...         ...    ...      ...   \n",
       "6362277  3130102010332301      281458       12603          53      2        1   \n",
       "6362282  3130102011002321      237724        8649          48      2        1   \n",
       "6362283  3130102011201112      220452       13642          54      1        1   \n",
       "6362286  3130102011220002      227900       16575          52      1        1   \n",
       "6362320  3130102100000302      261380       11566          59      2        2   \n",
       "\n",
       "                                                  geometry  \n",
       "6255230  POLYGON ((123.72803 -16.12499, 123.73352 -16.1...  \n",
       "6255231  POLYGON ((123.73352 -16.12499, 123.73901 -16.1...  \n",
       "6255236  POLYGON ((113.97766 -21.88699, 113.98315 -21.8...  \n",
       "6255237  POLYGON ((113.98315 -21.88189, 113.98865 -21.8...  \n",
       "6255268  POLYGON ((114.99390 -21.70337, 114.99939 -21.7...  \n",
       "...                                                    ...  \n",
       "6362277  POLYGON ((147.24426 -43.30919, 147.24976 -43.3...  \n",
       "6362282  POLYGON ((147.33215 -43.12504, 147.33765 -43.1...  \n",
       "6362283  POLYGON ((147.38159 -43.20117, 147.38708 -43.2...  \n",
       "6362286  POLYGON ((147.30469 -43.26521, 147.31018 -43.2...  \n",
       "6362320  POLYGON ((147.67822 -43.08895, 147.68372 -43.0...  \n",
       "\n",
       "[3514 rows x 7 columns]"
      ]
     },
     "execution_count": 35,
     "metadata": {},
     "output_type": "execute_result"
    }
   ],
   "source": [
    "au_tiles.loc[au_tiles['avg_d_kbps'] >200000]\n",
    "#Q2 23 - records over 200Mbps - 3514"
   ]
  },
  {
   "cell_type": "code",
   "execution_count": 37,
   "metadata": {},
   "outputs": [
    {
     "data": {
      "text/html": [
       "<div>\n",
       "<style scoped>\n",
       "    .dataframe tbody tr th:only-of-type {\n",
       "        vertical-align: middle;\n",
       "    }\n",
       "\n",
       "    .dataframe tbody tr th {\n",
       "        vertical-align: top;\n",
       "    }\n",
       "\n",
       "    .dataframe thead th {\n",
       "        text-align: right;\n",
       "    }\n",
       "</style>\n",
       "<table border=\"1\" class=\"dataframe\">\n",
       "  <thead>\n",
       "    <tr style=\"text-align: right;\">\n",
       "      <th></th>\n",
       "      <th>quadkey</th>\n",
       "      <th>avg_d_kbps</th>\n",
       "      <th>avg_u_kbps</th>\n",
       "      <th>avg_lat_ms</th>\n",
       "      <th>tests</th>\n",
       "      <th>devices</th>\n",
       "      <th>geometry</th>\n",
       "    </tr>\n",
       "  </thead>\n",
       "  <tbody>\n",
       "    <tr>\n",
       "      <th>6254051</th>\n",
       "      <td>3101033321331112</td>\n",
       "      <td>6062</td>\n",
       "      <td>7043</td>\n",
       "      <td>6</td>\n",
       "      <td>1</td>\n",
       "      <td>1</td>\n",
       "      <td>POLYGON ((123.03589 -10.75237, 123.04138 -10.7...</td>\n",
       "    </tr>\n",
       "    <tr>\n",
       "      <th>6254057</th>\n",
       "      <td>3101033323012310</td>\n",
       "      <td>1913</td>\n",
       "      <td>1946</td>\n",
       "      <td>6</td>\n",
       "      <td>1</td>\n",
       "      <td>1</td>\n",
       "      <td>POLYGON ((122.81616 -10.89804, 122.82166 -10.8...</td>\n",
       "    </tr>\n",
       "    <tr>\n",
       "      <th>6254059</th>\n",
       "      <td>3101033323030111</td>\n",
       "      <td>9519</td>\n",
       "      <td>20443</td>\n",
       "      <td>6</td>\n",
       "      <td>1</td>\n",
       "      <td>1</td>\n",
       "      <td>POLYGON ((122.82166 -10.91962, 122.82715 -10.9...</td>\n",
       "    </tr>\n",
       "    <tr>\n",
       "      <th>6255233</th>\n",
       "      <td>3101213333201311</td>\n",
       "      <td>1589</td>\n",
       "      <td>786</td>\n",
       "      <td>591</td>\n",
       "      <td>1</td>\n",
       "      <td>1</td>\n",
       "      <td>POLYGON ((123.48083 -16.48876, 123.48633 -16.4...</td>\n",
       "    </tr>\n",
       "    <tr>\n",
       "      <th>6255239</th>\n",
       "      <td>3101222322300133</td>\n",
       "      <td>2291</td>\n",
       "      <td>1600</td>\n",
       "      <td>716</td>\n",
       "      <td>1</td>\n",
       "      <td>1</td>\n",
       "      <td>POLYGON ((114.12048 -21.79521, 114.12598 -21.7...</td>\n",
       "    </tr>\n",
       "    <tr>\n",
       "      <th>...</th>\n",
       "      <td>...</td>\n",
       "      <td>...</td>\n",
       "      <td>...</td>\n",
       "      <td>...</td>\n",
       "      <td>...</td>\n",
       "      <td>...</td>\n",
       "      <td>...</td>\n",
       "    </tr>\n",
       "    <tr>\n",
       "      <th>6362255</th>\n",
       "      <td>3130102010223302</td>\n",
       "      <td>7764</td>\n",
       "      <td>691</td>\n",
       "      <td>78</td>\n",
       "      <td>2</td>\n",
       "      <td>2</td>\n",
       "      <td>POLYGON ((147.01904 -43.31319, 147.02454 -43.3...</td>\n",
       "    </tr>\n",
       "    <tr>\n",
       "      <th>6362278</th>\n",
       "      <td>3130102010332322</td>\n",
       "      <td>1668</td>\n",
       "      <td>920</td>\n",
       "      <td>86</td>\n",
       "      <td>5</td>\n",
       "      <td>3</td>\n",
       "      <td>POLYGON ((147.23877 -43.32118, 147.24426 -43.3...</td>\n",
       "    </tr>\n",
       "    <tr>\n",
       "      <th>6362288</th>\n",
       "      <td>3130102012000033</td>\n",
       "      <td>4986</td>\n",
       "      <td>4716</td>\n",
       "      <td>79</td>\n",
       "      <td>1</td>\n",
       "      <td>1</td>\n",
       "      <td>POLYGON ((146.96960 -43.33716, 146.97510 -43.3...</td>\n",
       "    </tr>\n",
       "    <tr>\n",
       "      <th>6362304</th>\n",
       "      <td>3130102012110102</td>\n",
       "      <td>5012</td>\n",
       "      <td>2482</td>\n",
       "      <td>117</td>\n",
       "      <td>2</td>\n",
       "      <td>2</td>\n",
       "      <td>POLYGON ((147.23877 -43.32917, 147.24426 -43.3...</td>\n",
       "    </tr>\n",
       "    <tr>\n",
       "      <th>6362312</th>\n",
       "      <td>3130102012132301</td>\n",
       "      <td>181</td>\n",
       "      <td>13</td>\n",
       "      <td>645</td>\n",
       "      <td>2</td>\n",
       "      <td>1</td>\n",
       "      <td>POLYGON ((147.24426 -43.43697, 147.24976 -43.4...</td>\n",
       "    </tr>\n",
       "  </tbody>\n",
       "</table>\n",
       "<p>3144 rows × 7 columns</p>\n",
       "</div>"
      ],
      "text/plain": [
       "                  quadkey  avg_d_kbps  avg_u_kbps  avg_lat_ms  tests  devices  \\\n",
       "6254051  3101033321331112        6062        7043           6      1        1   \n",
       "6254057  3101033323012310        1913        1946           6      1        1   \n",
       "6254059  3101033323030111        9519       20443           6      1        1   \n",
       "6255233  3101213333201311        1589         786         591      1        1   \n",
       "6255239  3101222322300133        2291        1600         716      1        1   \n",
       "...                   ...         ...         ...         ...    ...      ...   \n",
       "6362255  3130102010223302        7764         691          78      2        2   \n",
       "6362278  3130102010332322        1668         920          86      5        3   \n",
       "6362288  3130102012000033        4986        4716          79      1        1   \n",
       "6362304  3130102012110102        5012        2482         117      2        2   \n",
       "6362312  3130102012132301         181          13         645      2        1   \n",
       "\n",
       "                                                  geometry  \n",
       "6254051  POLYGON ((123.03589 -10.75237, 123.04138 -10.7...  \n",
       "6254057  POLYGON ((122.81616 -10.89804, 122.82166 -10.8...  \n",
       "6254059  POLYGON ((122.82166 -10.91962, 122.82715 -10.9...  \n",
       "6255233  POLYGON ((123.48083 -16.48876, 123.48633 -16.4...  \n",
       "6255239  POLYGON ((114.12048 -21.79521, 114.12598 -21.7...  \n",
       "...                                                    ...  \n",
       "6362255  POLYGON ((147.01904 -43.31319, 147.02454 -43.3...  \n",
       "6362278  POLYGON ((147.23877 -43.32118, 147.24426 -43.3...  \n",
       "6362288  POLYGON ((146.96960 -43.33716, 146.97510 -43.3...  \n",
       "6362304  POLYGON ((147.23877 -43.32917, 147.24426 -43.3...  \n",
       "6362312  POLYGON ((147.24426 -43.43697, 147.24976 -43.4...  \n",
       "\n",
       "[3144 rows x 7 columns]"
      ]
     },
     "execution_count": 37,
     "metadata": {},
     "output_type": "execute_result"
    }
   ],
   "source": [
    "au_tiles.loc[au_tiles['avg_d_kbps'] <10000]\n",
    "#Q2 23 - records less 10Mbps - 3144"
   ]
  },
  {
   "cell_type": "code",
   "execution_count": 38,
   "metadata": {},
   "outputs": [
    {
     "name": "stderr",
     "output_type": "stream",
     "text": [
      "/Users/rf/anaconda3/lib/python3.7/site-packages/ipykernel_launcher.py:1: UserWarning: Geometry is in a geographic CRS. Results from 'centroid' are likely incorrect. Use 'GeoSeries.to_crs()' to re-project geometries to a projected CRS before this operation.\n",
      "\n",
      "  \"\"\"Entry point for launching an IPython kernel.\n"
     ]
    },
    {
     "data": {
      "text/plain": [
       "<matplotlib.axes._subplots.AxesSubplot at 0x7f84bf23d668>"
      ]
     },
     "execution_count": 38,
     "metadata": {},
     "output_type": "execute_result"
    },
    {
     "data": {
      "image/png": "[encoded data removed]",
      "text/plain": [
       "<Figure size 432x288 with 1 Axes>"
      ]
     },
     "metadata": {
      "needs_background": "light"
     },
     "output_type": "display_data"
    }
   ],
   "source": [
    "au_tiles.loc[au_tiles['avg_d_kbps'] <10000].centroid.plot()"
   ]
  },
  {
   "cell_type": "code",
   "execution_count": 52,
   "metadata": {},
   "outputs": [
    {
     "data": {
      "text/plain": [
       "array([[<matplotlib.axes._subplots.AxesSubplot object at 0x7f8479e24940>]],\n",
       "      dtype=object)"
      ]
     },
     "execution_count": 52,
     "metadata": {},
     "output_type": "execute_result"
    },
    {
     "data": {
      "image/png": "[encoded data removed]",
      "text/plain": [
       "<Figure size 432x288 with 1 Axes>"
      ]
     },
     "metadata": {
      "needs_background": "light"
     },
     "output_type": "display_data"
    }
   ],
   "source": [
    "#df.hist(column='session_duration_seconds', bins=25, bins=[0,.5,.75,1]))\n",
    "au_tiles.hist(column='avg_d_kbps', bins=[0,20000, 50000, 100000, 150000, 200000, 300000, 500000])"
   ]
  },
  {
   "cell_type": "code",
   "execution_count": null,
   "metadata": {},
   "outputs": [],
   "source": []
  }
 ],
 "metadata": {
  "kernelspec": {
   "display_name": "Python 3",
   "language": "python",
   "name": "python3"
  },
  "language_info": {
   "codemirror_mode": {
    "name": "ipython",
    "version": 3
   },
   "file_extension": ".py",
   "mimetype": "text/x-python",
   "name": "python",
   "nbconvert_exporter": "python",
   "pygments_lexer": "ipython3",
   "version": "3.7.1"
  }
 },
 "nbformat": 4,
 "nbformat_minor": 2
}
